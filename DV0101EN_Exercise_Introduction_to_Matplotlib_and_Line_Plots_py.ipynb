{
  "nbformat": 4,
  "nbformat_minor": 0,
  "metadata": {
    "kernelspec": {
      "display_name": "Python 3",
      "language": "python",
      "name": "python3"
    },
    "language_info": {
      "codemirror_mode": {
        "name": "ipython",
        "version": 3
      },
      "file_extension": ".py",
      "mimetype": "text/x-python",
      "name": "python",
      "nbconvert_exporter": "python",
      "pygments_lexer": "ipython3",
      "version": "3.6.8"
    },
    "colab": {
      "name": "DV0101EN-Exercise-Introduction-to-Matplotlib-and-Line-Plots-py.ipynb",
      "provenance": []
    }
  },
  "cells": [
    {
      "cell_type": "markdown",
      "metadata": {
        "button": false,
        "deletable": true,
        "new_sheet": false,
        "run_control": {
          "read_only": false
        },
        "id": "3qsLVmk33mki",
        "colab_type": "text"
      },
      "source": [
        "<a href=\"https://cognitiveclass.ai\"><img src = \"https://ibm.box.com/shared/static/9gegpsmnsoo25ikkbl4qzlvlyjbgxs5x.png\" width = 400> </a>\n",
        "\n",
        "<h1 align=center><font size = 5>Introduction to Matplotlib and Line Plots</font></h1>"
      ]
    },
    {
      "cell_type": "markdown",
      "metadata": {
        "button": false,
        "deletable": true,
        "new_sheet": false,
        "run_control": {
          "read_only": false
        },
        "id": "DfslyygH3mkk",
        "colab_type": "text"
      },
      "source": [
        "## Introduction\n",
        "\n",
        "The aim of these labs is to introduce you to data visualization with Python as concrete and as consistent as possible. \n",
        "Speaking of consistency, because there is no *best* data visualization library avaiblable for Python - up to creating these labs - we have to introduce different libraries and show their benefits when we are discussing new visualization concepts. Doing so, we hope to make students well-rounded with visualization libraries and concepts so that they are able to judge and decide on the best visualitzation technique and tool for a given problem _and_ audience.\n",
        "\n",
        "Please make sure that you have completed the prerequisites for this course, namely [**Python for Data Science**](https://cognitiveclass.ai/courses/python-for-data-science/).\n",
        "\n",
        "**Note**: The majority of the plots and visualizations will be generated using data stored in *pandas* dataframes. Therefore, in this lab, we provide a brief crash course on *pandas*. However, if you are interested in learning more about the *pandas* library, detailed description and explanation of how to use it and how to clean, munge, and process data stored in a *pandas* dataframe are provided in our course [**Data Analysis with Python**](https://cognitiveclass.ai/courses/data-analysis-python/).\n",
        "\n",
        "------------"
      ]
    },
    {
      "cell_type": "markdown",
      "metadata": {
        "button": false,
        "deletable": true,
        "new_sheet": false,
        "run_control": {
          "read_only": false
        },
        "id": "OGNKLERx3mkl",
        "colab_type": "text"
      },
      "source": [
        "## Table of Contents\n",
        "\n",
        "<div class=\"alert alert-block alert-info\" style=\"margin-top: 20px\">\n",
        "\n",
        "1. [Exploring Datasets with *pandas*](#0)<br>\n",
        "1.1 [The Dataset: Immigration to Canada from 1980 to 2013](#2)<br>\n",
        "1.2 [*pandas* Basics](#4) <br>\n",
        "1.3 [*pandas* Intermediate: Indexing and Selection](#6) <br>\n",
        "2. [Visualizing Data using Matplotlib](#8) <br>\n",
        "2.1 [Matplotlib: Standard Python Visualization Library](#10) <br>\n",
        "3. [Line Plots](#12)\n",
        "</div>\n",
        "<hr>"
      ]
    },
    {
      "cell_type": "markdown",
      "metadata": {
        "button": false,
        "deletable": true,
        "new_sheet": false,
        "run_control": {
          "read_only": false
        },
        "id": "ZQaR4Pn23mkl",
        "colab_type": "text"
      },
      "source": [
        "# Exploring Datasets with *pandas* <a id=\"0\"></a>\n",
        "\n",
        "*pandas* is an essential data analysis toolkit for Python. From their [website](http://pandas.pydata.org/):\n",
        ">*pandas* is a Python package providing fast, flexible, and expressive data structures designed to make working with “relational” or “labeled” data both easy and intuitive. It aims to be the fundamental high-level building block for doing practical, **real world** data analysis in Python.\n",
        "\n",
        "The course heavily relies on *pandas* for data wrangling, analysis, and visualization. We encourage you to spend some time and  familizare yourself with the *pandas* API Reference: http://pandas.pydata.org/pandas-docs/stable/api.html."
      ]
    },
    {
      "cell_type": "markdown",
      "metadata": {
        "button": false,
        "deletable": true,
        "new_sheet": false,
        "run_control": {
          "read_only": false
        },
        "id": "P4yc4LtR3mkm",
        "colab_type": "text"
      },
      "source": [
        "## The Dataset: Immigration to Canada from 1980 to 2013 <a id=\"2\"></a>"
      ]
    },
    {
      "cell_type": "markdown",
      "metadata": {
        "button": false,
        "deletable": true,
        "new_sheet": false,
        "run_control": {
          "read_only": false
        },
        "id": "_FCzPi693mkn",
        "colab_type": "text"
      },
      "source": [
        "Dataset Source: [International migration flows to and from selected countries - The 2015 revision](http://www.un.org/en/development/desa/population/migration/data/empirical2/migrationflows.shtml).\n",
        "\n",
        "The dataset contains annual data on the flows of international immigrants as recorded by the countries of destination. The data presents both inflows and outflows according to the place of birth, citizenship or place of previous / next residence both for foreigners and nationals. The current version presents data pertaining to 45 countries.\n",
        "\n",
        "In this lab, we will focus on the Canadian immigration data.\n",
        "\n",
        "<img src = \"https://s3-api.us-geo.objectstorage.softlayer.net/cf-courses-data/CognitiveClass/DV0101EN/labs/coursera/Images/Mod1Fig1-Dataset.png\" align=\"center\" width=900>\n",
        "\n",
        "For sake of simplicity, Canada's immigration data has been extracted and uploaded to one of IBM servers. You can fetch the data from [here](https://ibm.box.com/shared/static/lw190pt9zpy5bd1ptyg2aw15awomz9pu.xlsx).\n",
        "\n",
        "---"
      ]
    },
    {
      "cell_type": "markdown",
      "metadata": {
        "button": false,
        "deletable": true,
        "new_sheet": false,
        "run_control": {
          "read_only": false
        },
        "id": "yklAEXVV3mko",
        "colab_type": "text"
      },
      "source": [
        "## *pandas* Basics<a id=\"4\"></a>"
      ]
    },
    {
      "cell_type": "markdown",
      "metadata": {
        "button": false,
        "deletable": true,
        "new_sheet": false,
        "run_control": {
          "read_only": false
        },
        "id": "Cud9Ot593mkp",
        "colab_type": "text"
      },
      "source": [
        "The first thing we'll do is import two key data analysis modules: *pandas* and **Numpy**."
      ]
    },
    {
      "cell_type": "code",
      "metadata": {
        "button": false,
        "deletable": true,
        "new_sheet": false,
        "run_control": {
          "read_only": false
        },
        "scrolled": false,
        "id": "QzFe9ZE13mkp",
        "colab_type": "code",
        "colab": {}
      },
      "source": [
        "import numpy as np  # useful for many scientific computing in Python\n",
        "import pandas as pd # primary data structure library"
      ],
      "execution_count": 0,
      "outputs": []
    },
    {
      "cell_type": "markdown",
      "metadata": {
        "button": false,
        "deletable": true,
        "new_sheet": false,
        "run_control": {
          "read_only": false
        },
        "id": "COzBJbD93mkv",
        "colab_type": "text"
      },
      "source": [
        "Let's download and import our primary Canadian Immigration dataset using *pandas* `read_excel()` method. Normally, before we can do that, we would need to download a module which *pandas* requires to read in excel files. This module is **xlrd**. For your convenience, we have pre-installed this module, so you would not have to worry about that. Otherwise, you would need to run the following line of code to install the **xlrd** module:\n",
        "```\n",
        "!conda install -c anaconda xlrd --yes\n",
        "```"
      ]
    },
    {
      "cell_type": "markdown",
      "metadata": {
        "button": false,
        "deletable": true,
        "new_sheet": false,
        "run_control": {
          "read_only": false
        },
        "id": "8UfeLqaw3mkw",
        "colab_type": "text"
      },
      "source": [
        "Now we are ready to read in our data."
      ]
    },
    {
      "cell_type": "code",
      "metadata": {
        "button": false,
        "deletable": true,
        "new_sheet": false,
        "run_control": {
          "read_only": false
        },
        "scrolled": false,
        "id": "OKILB4zU3mkw",
        "colab_type": "code",
        "colab": {
          "base_uri": "https://localhost:8080/",
          "height": 34
        },
        "outputId": "1c895db3-1622-4e29-be8d-6d1785243957"
      },
      "source": [
        "df_can = pd.read_excel('https://s3-api.us-geo.objectstorage.softlayer.net/cf-courses-data/CognitiveClass/DV0101EN/labs/Data_Files/Canada.xlsx',\n",
        "                       sheet_name='Canada by Citizenship',\n",
        "                       skiprows=range(20),\n",
        "                       skipfooter=2)\n",
        "\n",
        "print ('Data read into a pandas dataframe!')"
      ],
      "execution_count": 2,
      "outputs": [
        {
          "output_type": "stream",
          "text": [
            "Data read into a pandas dataframe!\n"
          ],
          "name": "stdout"
        }
      ]
    },
    {
      "cell_type": "markdown",
      "metadata": {
        "button": false,
        "deletable": true,
        "new_sheet": false,
        "run_control": {
          "read_only": false
        },
        "id": "gDccqJuA3mk0",
        "colab_type": "text"
      },
      "source": [
        "Let's view the top 5 rows of the dataset using the `head()` function."
      ]
    },
    {
      "cell_type": "code",
      "metadata": {
        "button": false,
        "deletable": true,
        "new_sheet": false,
        "run_control": {
          "read_only": false
        },
        "id": "-Zg0XHmW3mk1",
        "colab_type": "code",
        "colab": {
          "base_uri": "https://localhost:8080/",
          "height": 309
        },
        "outputId": "f4ce21f2-376b-4554-fe11-f61ef63a157b"
      },
      "source": [
        "df_can.head()\n",
        "# tip: You can specify the number of rows you'd like to see as follows: df_can.head(10) "
      ],
      "execution_count": 3,
      "outputs": [
        {
          "output_type": "execute_result",
          "data": {
            "text/html": [
              "<div>\n",
              "<style scoped>\n",
              "    .dataframe tbody tr th:only-of-type {\n",
              "        vertical-align: middle;\n",
              "    }\n",
              "\n",
              "    .dataframe tbody tr th {\n",
              "        vertical-align: top;\n",
              "    }\n",
              "\n",
              "    .dataframe thead th {\n",
              "        text-align: right;\n",
              "    }\n",
              "</style>\n",
              "<table border=\"1\" class=\"dataframe\">\n",
              "  <thead>\n",
              "    <tr style=\"text-align: right;\">\n",
              "      <th></th>\n",
              "      <th>Type</th>\n",
              "      <th>Coverage</th>\n",
              "      <th>OdName</th>\n",
              "      <th>AREA</th>\n",
              "      <th>AreaName</th>\n",
              "      <th>REG</th>\n",
              "      <th>RegName</th>\n",
              "      <th>DEV</th>\n",
              "      <th>DevName</th>\n",
              "      <th>1980</th>\n",
              "      <th>1981</th>\n",
              "      <th>1982</th>\n",
              "      <th>1983</th>\n",
              "      <th>1984</th>\n",
              "      <th>1985</th>\n",
              "      <th>1986</th>\n",
              "      <th>1987</th>\n",
              "      <th>1988</th>\n",
              "      <th>1989</th>\n",
              "      <th>1990</th>\n",
              "      <th>1991</th>\n",
              "      <th>1992</th>\n",
              "      <th>1993</th>\n",
              "      <th>1994</th>\n",
              "      <th>1995</th>\n",
              "      <th>1996</th>\n",
              "      <th>1997</th>\n",
              "      <th>1998</th>\n",
              "      <th>1999</th>\n",
              "      <th>2000</th>\n",
              "      <th>2001</th>\n",
              "      <th>2002</th>\n",
              "      <th>2003</th>\n",
              "      <th>2004</th>\n",
              "      <th>2005</th>\n",
              "      <th>2006</th>\n",
              "      <th>2007</th>\n",
              "      <th>2008</th>\n",
              "      <th>2009</th>\n",
              "      <th>2010</th>\n",
              "      <th>2011</th>\n",
              "      <th>2012</th>\n",
              "      <th>2013</th>\n",
              "    </tr>\n",
              "  </thead>\n",
              "  <tbody>\n",
              "    <tr>\n",
              "      <th>0</th>\n",
              "      <td>Immigrants</td>\n",
              "      <td>Foreigners</td>\n",
              "      <td>Afghanistan</td>\n",
              "      <td>935</td>\n",
              "      <td>Asia</td>\n",
              "      <td>5501</td>\n",
              "      <td>Southern Asia</td>\n",
              "      <td>902</td>\n",
              "      <td>Developing regions</td>\n",
              "      <td>16</td>\n",
              "      <td>39</td>\n",
              "      <td>39</td>\n",
              "      <td>47</td>\n",
              "      <td>71</td>\n",
              "      <td>340</td>\n",
              "      <td>496</td>\n",
              "      <td>741</td>\n",
              "      <td>828</td>\n",
              "      <td>1076</td>\n",
              "      <td>1028</td>\n",
              "      <td>1378</td>\n",
              "      <td>1170</td>\n",
              "      <td>713</td>\n",
              "      <td>858</td>\n",
              "      <td>1537</td>\n",
              "      <td>2212</td>\n",
              "      <td>2555</td>\n",
              "      <td>1999</td>\n",
              "      <td>2395</td>\n",
              "      <td>3326</td>\n",
              "      <td>4067</td>\n",
              "      <td>3697</td>\n",
              "      <td>3479</td>\n",
              "      <td>2978</td>\n",
              "      <td>3436</td>\n",
              "      <td>3009</td>\n",
              "      <td>2652</td>\n",
              "      <td>2111</td>\n",
              "      <td>1746</td>\n",
              "      <td>1758</td>\n",
              "      <td>2203</td>\n",
              "      <td>2635</td>\n",
              "      <td>2004</td>\n",
              "    </tr>\n",
              "    <tr>\n",
              "      <th>1</th>\n",
              "      <td>Immigrants</td>\n",
              "      <td>Foreigners</td>\n",
              "      <td>Albania</td>\n",
              "      <td>908</td>\n",
              "      <td>Europe</td>\n",
              "      <td>925</td>\n",
              "      <td>Southern Europe</td>\n",
              "      <td>901</td>\n",
              "      <td>Developed regions</td>\n",
              "      <td>1</td>\n",
              "      <td>0</td>\n",
              "      <td>0</td>\n",
              "      <td>0</td>\n",
              "      <td>0</td>\n",
              "      <td>0</td>\n",
              "      <td>1</td>\n",
              "      <td>2</td>\n",
              "      <td>2</td>\n",
              "      <td>3</td>\n",
              "      <td>3</td>\n",
              "      <td>21</td>\n",
              "      <td>56</td>\n",
              "      <td>96</td>\n",
              "      <td>71</td>\n",
              "      <td>63</td>\n",
              "      <td>113</td>\n",
              "      <td>307</td>\n",
              "      <td>574</td>\n",
              "      <td>1264</td>\n",
              "      <td>1816</td>\n",
              "      <td>1602</td>\n",
              "      <td>1021</td>\n",
              "      <td>853</td>\n",
              "      <td>1450</td>\n",
              "      <td>1223</td>\n",
              "      <td>856</td>\n",
              "      <td>702</td>\n",
              "      <td>560</td>\n",
              "      <td>716</td>\n",
              "      <td>561</td>\n",
              "      <td>539</td>\n",
              "      <td>620</td>\n",
              "      <td>603</td>\n",
              "    </tr>\n",
              "    <tr>\n",
              "      <th>2</th>\n",
              "      <td>Immigrants</td>\n",
              "      <td>Foreigners</td>\n",
              "      <td>Algeria</td>\n",
              "      <td>903</td>\n",
              "      <td>Africa</td>\n",
              "      <td>912</td>\n",
              "      <td>Northern Africa</td>\n",
              "      <td>902</td>\n",
              "      <td>Developing regions</td>\n",
              "      <td>80</td>\n",
              "      <td>67</td>\n",
              "      <td>71</td>\n",
              "      <td>69</td>\n",
              "      <td>63</td>\n",
              "      <td>44</td>\n",
              "      <td>69</td>\n",
              "      <td>132</td>\n",
              "      <td>242</td>\n",
              "      <td>434</td>\n",
              "      <td>491</td>\n",
              "      <td>872</td>\n",
              "      <td>795</td>\n",
              "      <td>717</td>\n",
              "      <td>595</td>\n",
              "      <td>1106</td>\n",
              "      <td>2054</td>\n",
              "      <td>1842</td>\n",
              "      <td>2292</td>\n",
              "      <td>2389</td>\n",
              "      <td>2867</td>\n",
              "      <td>3418</td>\n",
              "      <td>3406</td>\n",
              "      <td>3072</td>\n",
              "      <td>3616</td>\n",
              "      <td>3626</td>\n",
              "      <td>4807</td>\n",
              "      <td>3623</td>\n",
              "      <td>4005</td>\n",
              "      <td>5393</td>\n",
              "      <td>4752</td>\n",
              "      <td>4325</td>\n",
              "      <td>3774</td>\n",
              "      <td>4331</td>\n",
              "    </tr>\n",
              "    <tr>\n",
              "      <th>3</th>\n",
              "      <td>Immigrants</td>\n",
              "      <td>Foreigners</td>\n",
              "      <td>American Samoa</td>\n",
              "      <td>909</td>\n",
              "      <td>Oceania</td>\n",
              "      <td>957</td>\n",
              "      <td>Polynesia</td>\n",
              "      <td>902</td>\n",
              "      <td>Developing regions</td>\n",
              "      <td>0</td>\n",
              "      <td>1</td>\n",
              "      <td>0</td>\n",
              "      <td>0</td>\n",
              "      <td>0</td>\n",
              "      <td>0</td>\n",
              "      <td>0</td>\n",
              "      <td>1</td>\n",
              "      <td>0</td>\n",
              "      <td>1</td>\n",
              "      <td>2</td>\n",
              "      <td>0</td>\n",
              "      <td>0</td>\n",
              "      <td>0</td>\n",
              "      <td>0</td>\n",
              "      <td>0</td>\n",
              "      <td>0</td>\n",
              "      <td>0</td>\n",
              "      <td>0</td>\n",
              "      <td>0</td>\n",
              "      <td>0</td>\n",
              "      <td>0</td>\n",
              "      <td>0</td>\n",
              "      <td>0</td>\n",
              "      <td>0</td>\n",
              "      <td>0</td>\n",
              "      <td>1</td>\n",
              "      <td>0</td>\n",
              "      <td>0</td>\n",
              "      <td>0</td>\n",
              "      <td>0</td>\n",
              "      <td>0</td>\n",
              "      <td>0</td>\n",
              "      <td>0</td>\n",
              "    </tr>\n",
              "    <tr>\n",
              "      <th>4</th>\n",
              "      <td>Immigrants</td>\n",
              "      <td>Foreigners</td>\n",
              "      <td>Andorra</td>\n",
              "      <td>908</td>\n",
              "      <td>Europe</td>\n",
              "      <td>925</td>\n",
              "      <td>Southern Europe</td>\n",
              "      <td>901</td>\n",
              "      <td>Developed regions</td>\n",
              "      <td>0</td>\n",
              "      <td>0</td>\n",
              "      <td>0</td>\n",
              "      <td>0</td>\n",
              "      <td>0</td>\n",
              "      <td>0</td>\n",
              "      <td>2</td>\n",
              "      <td>0</td>\n",
              "      <td>0</td>\n",
              "      <td>0</td>\n",
              "      <td>3</td>\n",
              "      <td>0</td>\n",
              "      <td>1</td>\n",
              "      <td>0</td>\n",
              "      <td>0</td>\n",
              "      <td>0</td>\n",
              "      <td>0</td>\n",
              "      <td>0</td>\n",
              "      <td>2</td>\n",
              "      <td>0</td>\n",
              "      <td>0</td>\n",
              "      <td>1</td>\n",
              "      <td>0</td>\n",
              "      <td>2</td>\n",
              "      <td>0</td>\n",
              "      <td>0</td>\n",
              "      <td>1</td>\n",
              "      <td>1</td>\n",
              "      <td>0</td>\n",
              "      <td>0</td>\n",
              "      <td>0</td>\n",
              "      <td>0</td>\n",
              "      <td>1</td>\n",
              "      <td>1</td>\n",
              "    </tr>\n",
              "  </tbody>\n",
              "</table>\n",
              "</div>"
            ],
            "text/plain": [
              "         Type    Coverage          OdName  AREA  ...  2010  2011  2012  2013\n",
              "0  Immigrants  Foreigners     Afghanistan   935  ...  1758  2203  2635  2004\n",
              "1  Immigrants  Foreigners         Albania   908  ...   561   539   620   603\n",
              "2  Immigrants  Foreigners         Algeria   903  ...  4752  4325  3774  4331\n",
              "3  Immigrants  Foreigners  American Samoa   909  ...     0     0     0     0\n",
              "4  Immigrants  Foreigners         Andorra   908  ...     0     0     1     1\n",
              "\n",
              "[5 rows x 43 columns]"
            ]
          },
          "metadata": {
            "tags": []
          },
          "execution_count": 3
        }
      ]
    },
    {
      "cell_type": "markdown",
      "metadata": {
        "button": false,
        "deletable": true,
        "new_sheet": false,
        "run_control": {
          "read_only": false
        },
        "id": "nW8OvTWd3mk5",
        "colab_type": "text"
      },
      "source": [
        "We can also veiw the bottom 5 rows of the dataset using the `tail()` function."
      ]
    },
    {
      "cell_type": "code",
      "metadata": {
        "button": false,
        "deletable": true,
        "new_sheet": false,
        "run_control": {
          "read_only": false
        },
        "id": "4zJeMOb93mk6",
        "colab_type": "code",
        "colab": {
          "base_uri": "https://localhost:8080/",
          "height": 326
        },
        "outputId": "51465d29-2535-48e7-f803-1a887027ac7e"
      },
      "source": [
        "df_can.tail()"
      ],
      "execution_count": 4,
      "outputs": [
        {
          "output_type": "execute_result",
          "data": {
            "text/html": [
              "<div>\n",
              "<style scoped>\n",
              "    .dataframe tbody tr th:only-of-type {\n",
              "        vertical-align: middle;\n",
              "    }\n",
              "\n",
              "    .dataframe tbody tr th {\n",
              "        vertical-align: top;\n",
              "    }\n",
              "\n",
              "    .dataframe thead th {\n",
              "        text-align: right;\n",
              "    }\n",
              "</style>\n",
              "<table border=\"1\" class=\"dataframe\">\n",
              "  <thead>\n",
              "    <tr style=\"text-align: right;\">\n",
              "      <th></th>\n",
              "      <th>Type</th>\n",
              "      <th>Coverage</th>\n",
              "      <th>OdName</th>\n",
              "      <th>AREA</th>\n",
              "      <th>AreaName</th>\n",
              "      <th>REG</th>\n",
              "      <th>RegName</th>\n",
              "      <th>DEV</th>\n",
              "      <th>DevName</th>\n",
              "      <th>1980</th>\n",
              "      <th>1981</th>\n",
              "      <th>1982</th>\n",
              "      <th>1983</th>\n",
              "      <th>1984</th>\n",
              "      <th>1985</th>\n",
              "      <th>1986</th>\n",
              "      <th>1987</th>\n",
              "      <th>1988</th>\n",
              "      <th>1989</th>\n",
              "      <th>1990</th>\n",
              "      <th>1991</th>\n",
              "      <th>1992</th>\n",
              "      <th>1993</th>\n",
              "      <th>1994</th>\n",
              "      <th>1995</th>\n",
              "      <th>1996</th>\n",
              "      <th>1997</th>\n",
              "      <th>1998</th>\n",
              "      <th>1999</th>\n",
              "      <th>2000</th>\n",
              "      <th>2001</th>\n",
              "      <th>2002</th>\n",
              "      <th>2003</th>\n",
              "      <th>2004</th>\n",
              "      <th>2005</th>\n",
              "      <th>2006</th>\n",
              "      <th>2007</th>\n",
              "      <th>2008</th>\n",
              "      <th>2009</th>\n",
              "      <th>2010</th>\n",
              "      <th>2011</th>\n",
              "      <th>2012</th>\n",
              "      <th>2013</th>\n",
              "    </tr>\n",
              "  </thead>\n",
              "  <tbody>\n",
              "    <tr>\n",
              "      <th>190</th>\n",
              "      <td>Immigrants</td>\n",
              "      <td>Foreigners</td>\n",
              "      <td>Viet Nam</td>\n",
              "      <td>935</td>\n",
              "      <td>Asia</td>\n",
              "      <td>920</td>\n",
              "      <td>South-Eastern Asia</td>\n",
              "      <td>902</td>\n",
              "      <td>Developing regions</td>\n",
              "      <td>1191</td>\n",
              "      <td>1829</td>\n",
              "      <td>2162</td>\n",
              "      <td>3404</td>\n",
              "      <td>7583</td>\n",
              "      <td>5907</td>\n",
              "      <td>2741</td>\n",
              "      <td>1406</td>\n",
              "      <td>1411</td>\n",
              "      <td>3004</td>\n",
              "      <td>3801</td>\n",
              "      <td>5870</td>\n",
              "      <td>5416</td>\n",
              "      <td>6547</td>\n",
              "      <td>5105</td>\n",
              "      <td>3723</td>\n",
              "      <td>2462</td>\n",
              "      <td>1752</td>\n",
              "      <td>1631</td>\n",
              "      <td>1419</td>\n",
              "      <td>1803</td>\n",
              "      <td>2117</td>\n",
              "      <td>2291</td>\n",
              "      <td>1713</td>\n",
              "      <td>1816</td>\n",
              "      <td>1852</td>\n",
              "      <td>3153</td>\n",
              "      <td>2574</td>\n",
              "      <td>1784</td>\n",
              "      <td>2171</td>\n",
              "      <td>1942</td>\n",
              "      <td>1723</td>\n",
              "      <td>1731</td>\n",
              "      <td>2112</td>\n",
              "    </tr>\n",
              "    <tr>\n",
              "      <th>191</th>\n",
              "      <td>Immigrants</td>\n",
              "      <td>Foreigners</td>\n",
              "      <td>Western Sahara</td>\n",
              "      <td>903</td>\n",
              "      <td>Africa</td>\n",
              "      <td>912</td>\n",
              "      <td>Northern Africa</td>\n",
              "      <td>902</td>\n",
              "      <td>Developing regions</td>\n",
              "      <td>0</td>\n",
              "      <td>0</td>\n",
              "      <td>0</td>\n",
              "      <td>0</td>\n",
              "      <td>0</td>\n",
              "      <td>0</td>\n",
              "      <td>0</td>\n",
              "      <td>0</td>\n",
              "      <td>0</td>\n",
              "      <td>0</td>\n",
              "      <td>0</td>\n",
              "      <td>1</td>\n",
              "      <td>0</td>\n",
              "      <td>0</td>\n",
              "      <td>0</td>\n",
              "      <td>0</td>\n",
              "      <td>0</td>\n",
              "      <td>0</td>\n",
              "      <td>0</td>\n",
              "      <td>0</td>\n",
              "      <td>0</td>\n",
              "      <td>0</td>\n",
              "      <td>0</td>\n",
              "      <td>0</td>\n",
              "      <td>0</td>\n",
              "      <td>0</td>\n",
              "      <td>1</td>\n",
              "      <td>0</td>\n",
              "      <td>0</td>\n",
              "      <td>0</td>\n",
              "      <td>0</td>\n",
              "      <td>0</td>\n",
              "      <td>0</td>\n",
              "      <td>0</td>\n",
              "    </tr>\n",
              "    <tr>\n",
              "      <th>192</th>\n",
              "      <td>Immigrants</td>\n",
              "      <td>Foreigners</td>\n",
              "      <td>Yemen</td>\n",
              "      <td>935</td>\n",
              "      <td>Asia</td>\n",
              "      <td>922</td>\n",
              "      <td>Western Asia</td>\n",
              "      <td>902</td>\n",
              "      <td>Developing regions</td>\n",
              "      <td>1</td>\n",
              "      <td>2</td>\n",
              "      <td>1</td>\n",
              "      <td>6</td>\n",
              "      <td>0</td>\n",
              "      <td>18</td>\n",
              "      <td>7</td>\n",
              "      <td>12</td>\n",
              "      <td>7</td>\n",
              "      <td>18</td>\n",
              "      <td>4</td>\n",
              "      <td>18</td>\n",
              "      <td>41</td>\n",
              "      <td>41</td>\n",
              "      <td>39</td>\n",
              "      <td>73</td>\n",
              "      <td>144</td>\n",
              "      <td>121</td>\n",
              "      <td>141</td>\n",
              "      <td>134</td>\n",
              "      <td>122</td>\n",
              "      <td>181</td>\n",
              "      <td>171</td>\n",
              "      <td>113</td>\n",
              "      <td>124</td>\n",
              "      <td>161</td>\n",
              "      <td>140</td>\n",
              "      <td>122</td>\n",
              "      <td>133</td>\n",
              "      <td>128</td>\n",
              "      <td>211</td>\n",
              "      <td>160</td>\n",
              "      <td>174</td>\n",
              "      <td>217</td>\n",
              "    </tr>\n",
              "    <tr>\n",
              "      <th>193</th>\n",
              "      <td>Immigrants</td>\n",
              "      <td>Foreigners</td>\n",
              "      <td>Zambia</td>\n",
              "      <td>903</td>\n",
              "      <td>Africa</td>\n",
              "      <td>910</td>\n",
              "      <td>Eastern Africa</td>\n",
              "      <td>902</td>\n",
              "      <td>Developing regions</td>\n",
              "      <td>11</td>\n",
              "      <td>17</td>\n",
              "      <td>11</td>\n",
              "      <td>7</td>\n",
              "      <td>16</td>\n",
              "      <td>9</td>\n",
              "      <td>15</td>\n",
              "      <td>23</td>\n",
              "      <td>44</td>\n",
              "      <td>68</td>\n",
              "      <td>77</td>\n",
              "      <td>69</td>\n",
              "      <td>73</td>\n",
              "      <td>46</td>\n",
              "      <td>51</td>\n",
              "      <td>41</td>\n",
              "      <td>34</td>\n",
              "      <td>72</td>\n",
              "      <td>34</td>\n",
              "      <td>51</td>\n",
              "      <td>39</td>\n",
              "      <td>78</td>\n",
              "      <td>50</td>\n",
              "      <td>46</td>\n",
              "      <td>56</td>\n",
              "      <td>91</td>\n",
              "      <td>77</td>\n",
              "      <td>71</td>\n",
              "      <td>64</td>\n",
              "      <td>60</td>\n",
              "      <td>102</td>\n",
              "      <td>69</td>\n",
              "      <td>46</td>\n",
              "      <td>59</td>\n",
              "    </tr>\n",
              "    <tr>\n",
              "      <th>194</th>\n",
              "      <td>Immigrants</td>\n",
              "      <td>Foreigners</td>\n",
              "      <td>Zimbabwe</td>\n",
              "      <td>903</td>\n",
              "      <td>Africa</td>\n",
              "      <td>910</td>\n",
              "      <td>Eastern Africa</td>\n",
              "      <td>902</td>\n",
              "      <td>Developing regions</td>\n",
              "      <td>72</td>\n",
              "      <td>114</td>\n",
              "      <td>102</td>\n",
              "      <td>44</td>\n",
              "      <td>32</td>\n",
              "      <td>29</td>\n",
              "      <td>43</td>\n",
              "      <td>68</td>\n",
              "      <td>99</td>\n",
              "      <td>187</td>\n",
              "      <td>129</td>\n",
              "      <td>94</td>\n",
              "      <td>61</td>\n",
              "      <td>72</td>\n",
              "      <td>78</td>\n",
              "      <td>58</td>\n",
              "      <td>39</td>\n",
              "      <td>44</td>\n",
              "      <td>43</td>\n",
              "      <td>49</td>\n",
              "      <td>98</td>\n",
              "      <td>110</td>\n",
              "      <td>191</td>\n",
              "      <td>669</td>\n",
              "      <td>1450</td>\n",
              "      <td>615</td>\n",
              "      <td>454</td>\n",
              "      <td>663</td>\n",
              "      <td>611</td>\n",
              "      <td>508</td>\n",
              "      <td>494</td>\n",
              "      <td>434</td>\n",
              "      <td>437</td>\n",
              "      <td>407</td>\n",
              "    </tr>\n",
              "  </tbody>\n",
              "</table>\n",
              "</div>"
            ],
            "text/plain": [
              "           Type    Coverage          OdName  AREA  ...  2010  2011  2012  2013\n",
              "190  Immigrants  Foreigners        Viet Nam   935  ...  1942  1723  1731  2112\n",
              "191  Immigrants  Foreigners  Western Sahara   903  ...     0     0     0     0\n",
              "192  Immigrants  Foreigners           Yemen   935  ...   211   160   174   217\n",
              "193  Immigrants  Foreigners          Zambia   903  ...   102    69    46    59\n",
              "194  Immigrants  Foreigners        Zimbabwe   903  ...   494   434   437   407\n",
              "\n",
              "[5 rows x 43 columns]"
            ]
          },
          "metadata": {
            "tags": []
          },
          "execution_count": 4
        }
      ]
    },
    {
      "cell_type": "markdown",
      "metadata": {
        "button": false,
        "deletable": true,
        "new_sheet": false,
        "run_control": {
          "read_only": false
        },
        "id": "6ZkEfy4p3mk-",
        "colab_type": "text"
      },
      "source": [
        "When analyzing a dataset, it's always a good idea to start by getting basic information about your dataframe. We can do this by using the `info()` method."
      ]
    },
    {
      "cell_type": "code",
      "metadata": {
        "button": false,
        "deletable": true,
        "new_sheet": false,
        "run_control": {
          "read_only": false
        },
        "scrolled": true,
        "id": "t7xAzt263mk-",
        "colab_type": "code",
        "colab": {
          "base_uri": "https://localhost:8080/",
          "height": 867
        },
        "outputId": "e7688427-3589-41c9-b118-6433e4445f7a"
      },
      "source": [
        "df_can.info()"
      ],
      "execution_count": 5,
      "outputs": [
        {
          "output_type": "stream",
          "text": [
            "<class 'pandas.core.frame.DataFrame'>\n",
            "RangeIndex: 195 entries, 0 to 194\n",
            "Data columns (total 43 columns):\n",
            " #   Column    Non-Null Count  Dtype \n",
            "---  ------    --------------  ----- \n",
            " 0   Type      195 non-null    object\n",
            " 1   Coverage  195 non-null    object\n",
            " 2   OdName    195 non-null    object\n",
            " 3   AREA      195 non-null    int64 \n",
            " 4   AreaName  195 non-null    object\n",
            " 5   REG       195 non-null    int64 \n",
            " 6   RegName   195 non-null    object\n",
            " 7   DEV       195 non-null    int64 \n",
            " 8   DevName   195 non-null    object\n",
            " 9   1980      195 non-null    int64 \n",
            " 10  1981      195 non-null    int64 \n",
            " 11  1982      195 non-null    int64 \n",
            " 12  1983      195 non-null    int64 \n",
            " 13  1984      195 non-null    int64 \n",
            " 14  1985      195 non-null    int64 \n",
            " 15  1986      195 non-null    int64 \n",
            " 16  1987      195 non-null    int64 \n",
            " 17  1988      195 non-null    int64 \n",
            " 18  1989      195 non-null    int64 \n",
            " 19  1990      195 non-null    int64 \n",
            " 20  1991      195 non-null    int64 \n",
            " 21  1992      195 non-null    int64 \n",
            " 22  1993      195 non-null    int64 \n",
            " 23  1994      195 non-null    int64 \n",
            " 24  1995      195 non-null    int64 \n",
            " 25  1996      195 non-null    int64 \n",
            " 26  1997      195 non-null    int64 \n",
            " 27  1998      195 non-null    int64 \n",
            " 28  1999      195 non-null    int64 \n",
            " 29  2000      195 non-null    int64 \n",
            " 30  2001      195 non-null    int64 \n",
            " 31  2002      195 non-null    int64 \n",
            " 32  2003      195 non-null    int64 \n",
            " 33  2004      195 non-null    int64 \n",
            " 34  2005      195 non-null    int64 \n",
            " 35  2006      195 non-null    int64 \n",
            " 36  2007      195 non-null    int64 \n",
            " 37  2008      195 non-null    int64 \n",
            " 38  2009      195 non-null    int64 \n",
            " 39  2010      195 non-null    int64 \n",
            " 40  2011      195 non-null    int64 \n",
            " 41  2012      195 non-null    int64 \n",
            " 42  2013      195 non-null    int64 \n",
            "dtypes: int64(37), object(6)\n",
            "memory usage: 65.6+ KB\n"
          ],
          "name": "stdout"
        }
      ]
    },
    {
      "cell_type": "markdown",
      "metadata": {
        "button": false,
        "deletable": true,
        "new_sheet": false,
        "run_control": {
          "read_only": false
        },
        "id": "lUOTefp83mlD",
        "colab_type": "text"
      },
      "source": [
        "To get the list of column headers we can call upon the dataframe's `.columns` parameter."
      ]
    },
    {
      "cell_type": "code",
      "metadata": {
        "button": false,
        "deletable": true,
        "new_sheet": false,
        "run_control": {
          "read_only": false
        },
        "scrolled": false,
        "id": "iXmvkg8w3mlD",
        "colab_type": "code",
        "colab": {
          "base_uri": "https://localhost:8080/",
          "height": 102
        },
        "outputId": "b7ab594f-bfb5-42fe-b4d9-148e9a1b606e"
      },
      "source": [
        "df_can.columns.values "
      ],
      "execution_count": 6,
      "outputs": [
        {
          "output_type": "execute_result",
          "data": {
            "text/plain": [
              "array(['Type', 'Coverage', 'OdName', 'AREA', 'AreaName', 'REG', 'RegName',\n",
              "       'DEV', 'DevName', 1980, 1981, 1982, 1983, 1984, 1985, 1986, 1987,\n",
              "       1988, 1989, 1990, 1991, 1992, 1993, 1994, 1995, 1996, 1997, 1998,\n",
              "       1999, 2000, 2001, 2002, 2003, 2004, 2005, 2006, 2007, 2008, 2009,\n",
              "       2010, 2011, 2012, 2013], dtype=object)"
            ]
          },
          "metadata": {
            "tags": []
          },
          "execution_count": 6
        }
      ]
    },
    {
      "cell_type": "markdown",
      "metadata": {
        "button": false,
        "deletable": true,
        "new_sheet": false,
        "run_control": {
          "read_only": false
        },
        "id": "-vFYs0p-3mlH",
        "colab_type": "text"
      },
      "source": [
        "Similarly, to get the list of indicies we use the `.index` parameter."
      ]
    },
    {
      "cell_type": "code",
      "metadata": {
        "button": false,
        "deletable": true,
        "new_sheet": false,
        "run_control": {
          "read_only": false
        },
        "scrolled": true,
        "id": "11Y8f1UD3mlI",
        "colab_type": "code",
        "colab": {
          "base_uri": "https://localhost:8080/",
          "height": 272
        },
        "outputId": "5771ceba-3e5d-4aaf-da21-d3e0a645ff54"
      },
      "source": [
        "df_can.index.values"
      ],
      "execution_count": 7,
      "outputs": [
        {
          "output_type": "execute_result",
          "data": {
            "text/plain": [
              "array([  0,   1,   2,   3,   4,   5,   6,   7,   8,   9,  10,  11,  12,\n",
              "        13,  14,  15,  16,  17,  18,  19,  20,  21,  22,  23,  24,  25,\n",
              "        26,  27,  28,  29,  30,  31,  32,  33,  34,  35,  36,  37,  38,\n",
              "        39,  40,  41,  42,  43,  44,  45,  46,  47,  48,  49,  50,  51,\n",
              "        52,  53,  54,  55,  56,  57,  58,  59,  60,  61,  62,  63,  64,\n",
              "        65,  66,  67,  68,  69,  70,  71,  72,  73,  74,  75,  76,  77,\n",
              "        78,  79,  80,  81,  82,  83,  84,  85,  86,  87,  88,  89,  90,\n",
              "        91,  92,  93,  94,  95,  96,  97,  98,  99, 100, 101, 102, 103,\n",
              "       104, 105, 106, 107, 108, 109, 110, 111, 112, 113, 114, 115, 116,\n",
              "       117, 118, 119, 120, 121, 122, 123, 124, 125, 126, 127, 128, 129,\n",
              "       130, 131, 132, 133, 134, 135, 136, 137, 138, 139, 140, 141, 142,\n",
              "       143, 144, 145, 146, 147, 148, 149, 150, 151, 152, 153, 154, 155,\n",
              "       156, 157, 158, 159, 160, 161, 162, 163, 164, 165, 166, 167, 168,\n",
              "       169, 170, 171, 172, 173, 174, 175, 176, 177, 178, 179, 180, 181,\n",
              "       182, 183, 184, 185, 186, 187, 188, 189, 190, 191, 192, 193, 194])"
            ]
          },
          "metadata": {
            "tags": []
          },
          "execution_count": 7
        }
      ]
    },
    {
      "cell_type": "markdown",
      "metadata": {
        "button": false,
        "deletable": true,
        "new_sheet": false,
        "run_control": {
          "read_only": false
        },
        "id": "8TcKy_iJ3mlL",
        "colab_type": "text"
      },
      "source": [
        "Note: The default type of index and columns is NOT list."
      ]
    },
    {
      "cell_type": "code",
      "metadata": {
        "button": false,
        "deletable": true,
        "new_sheet": false,
        "run_control": {
          "read_only": false
        },
        "scrolled": false,
        "id": "_QXFhZj-3mlL",
        "colab_type": "code",
        "colab": {
          "base_uri": "https://localhost:8080/",
          "height": 51
        },
        "outputId": "09f26980-b8f1-47c8-dccb-c7dc8e714817"
      },
      "source": [
        "print(type(df_can.columns))\n",
        "print(type(df_can.index))"
      ],
      "execution_count": 8,
      "outputs": [
        {
          "output_type": "stream",
          "text": [
            "<class 'pandas.core.indexes.base.Index'>\n",
            "<class 'pandas.core.indexes.range.RangeIndex'>\n"
          ],
          "name": "stdout"
        }
      ]
    },
    {
      "cell_type": "markdown",
      "metadata": {
        "button": false,
        "deletable": true,
        "new_sheet": false,
        "run_control": {
          "read_only": false
        },
        "id": "KYMAukQm3mlT",
        "colab_type": "text"
      },
      "source": [
        "To get the index and columns as lists, we can use the `tolist()` method."
      ]
    },
    {
      "cell_type": "code",
      "metadata": {
        "button": false,
        "deletable": true,
        "new_sheet": false,
        "run_control": {
          "read_only": false
        },
        "scrolled": false,
        "id": "8Jm6wb2L3mlT",
        "colab_type": "code",
        "colab": {
          "base_uri": "https://localhost:8080/",
          "height": 51
        },
        "outputId": "fef1832c-b069-4aea-d106-49eaeb9f81a5"
      },
      "source": [
        "df_can.columns.tolist()\n",
        "df_can.index.tolist()\n",
        "\n",
        "print (type(df_can.columns.tolist()))\n",
        "print (type(df_can.index.tolist()))"
      ],
      "execution_count": 9,
      "outputs": [
        {
          "output_type": "stream",
          "text": [
            "<class 'list'>\n",
            "<class 'list'>\n"
          ],
          "name": "stdout"
        }
      ]
    },
    {
      "cell_type": "markdown",
      "metadata": {
        "button": false,
        "deletable": true,
        "new_sheet": false,
        "run_control": {
          "read_only": false
        },
        "id": "BDH_SPNh3mlW",
        "colab_type": "text"
      },
      "source": [
        "To view the dimensions of the dataframe, we use the `.shape` parameter."
      ]
    },
    {
      "cell_type": "code",
      "metadata": {
        "button": false,
        "deletable": true,
        "new_sheet": false,
        "run_control": {
          "read_only": false
        },
        "scrolled": false,
        "id": "-RUzpnjj3mlX",
        "colab_type": "code",
        "colab": {
          "base_uri": "https://localhost:8080/",
          "height": 34
        },
        "outputId": "a0b5cff9-fcec-4d8d-c029-75050d90b9b6"
      },
      "source": [
        "# size of dataframe (rows, columns)\n",
        "df_can.shape    "
      ],
      "execution_count": 10,
      "outputs": [
        {
          "output_type": "execute_result",
          "data": {
            "text/plain": [
              "(195, 43)"
            ]
          },
          "metadata": {
            "tags": []
          },
          "execution_count": 10
        }
      ]
    },
    {
      "cell_type": "markdown",
      "metadata": {
        "button": false,
        "deletable": true,
        "new_sheet": false,
        "run_control": {
          "read_only": false
        },
        "id": "hDRw4ssJ3mla",
        "colab_type": "text"
      },
      "source": [
        "Note: The main types stored in *pandas* objects are *float*, *int*, *bool*, *datetime64[ns]* and *datetime64[ns, tz] (in >= 0.17.0)*, *timedelta[ns]*, *category (in >= 0.15.0)*, and *object* (string). In addition these dtypes have item sizes, e.g. int64 and int32. "
      ]
    },
    {
      "cell_type": "markdown",
      "metadata": {
        "button": false,
        "deletable": true,
        "new_sheet": false,
        "run_control": {
          "read_only": false
        },
        "id": "GPluFELE3mla",
        "colab_type": "text"
      },
      "source": [
        "Let's clean the data set to remove a few unnecessary columns. We can use *pandas* `drop()` method as follows:"
      ]
    },
    {
      "cell_type": "code",
      "metadata": {
        "button": false,
        "deletable": true,
        "new_sheet": false,
        "run_control": {
          "read_only": false
        },
        "scrolled": false,
        "id": "mRGIj2Gb3mlb",
        "colab_type": "code",
        "colab": {
          "base_uri": "https://localhost:8080/",
          "height": 165
        },
        "outputId": "9175c786-2852-43a2-deaf-c4fa4cb2da5c"
      },
      "source": [
        "# in pandas axis=0 represents rows (default) and axis=1 represents columns.\n",
        "df_can.drop(['AREA','REG','DEV','Type','Coverage'], axis=1, inplace=True)\n",
        "df_can.head(2)"
      ],
      "execution_count": 11,
      "outputs": [
        {
          "output_type": "execute_result",
          "data": {
            "text/html": [
              "<div>\n",
              "<style scoped>\n",
              "    .dataframe tbody tr th:only-of-type {\n",
              "        vertical-align: middle;\n",
              "    }\n",
              "\n",
              "    .dataframe tbody tr th {\n",
              "        vertical-align: top;\n",
              "    }\n",
              "\n",
              "    .dataframe thead th {\n",
              "        text-align: right;\n",
              "    }\n",
              "</style>\n",
              "<table border=\"1\" class=\"dataframe\">\n",
              "  <thead>\n",
              "    <tr style=\"text-align: right;\">\n",
              "      <th></th>\n",
              "      <th>OdName</th>\n",
              "      <th>AreaName</th>\n",
              "      <th>RegName</th>\n",
              "      <th>DevName</th>\n",
              "      <th>1980</th>\n",
              "      <th>1981</th>\n",
              "      <th>1982</th>\n",
              "      <th>1983</th>\n",
              "      <th>1984</th>\n",
              "      <th>1985</th>\n",
              "      <th>1986</th>\n",
              "      <th>1987</th>\n",
              "      <th>1988</th>\n",
              "      <th>1989</th>\n",
              "      <th>1990</th>\n",
              "      <th>1991</th>\n",
              "      <th>1992</th>\n",
              "      <th>1993</th>\n",
              "      <th>1994</th>\n",
              "      <th>1995</th>\n",
              "      <th>1996</th>\n",
              "      <th>1997</th>\n",
              "      <th>1998</th>\n",
              "      <th>1999</th>\n",
              "      <th>2000</th>\n",
              "      <th>2001</th>\n",
              "      <th>2002</th>\n",
              "      <th>2003</th>\n",
              "      <th>2004</th>\n",
              "      <th>2005</th>\n",
              "      <th>2006</th>\n",
              "      <th>2007</th>\n",
              "      <th>2008</th>\n",
              "      <th>2009</th>\n",
              "      <th>2010</th>\n",
              "      <th>2011</th>\n",
              "      <th>2012</th>\n",
              "      <th>2013</th>\n",
              "    </tr>\n",
              "  </thead>\n",
              "  <tbody>\n",
              "    <tr>\n",
              "      <th>0</th>\n",
              "      <td>Afghanistan</td>\n",
              "      <td>Asia</td>\n",
              "      <td>Southern Asia</td>\n",
              "      <td>Developing regions</td>\n",
              "      <td>16</td>\n",
              "      <td>39</td>\n",
              "      <td>39</td>\n",
              "      <td>47</td>\n",
              "      <td>71</td>\n",
              "      <td>340</td>\n",
              "      <td>496</td>\n",
              "      <td>741</td>\n",
              "      <td>828</td>\n",
              "      <td>1076</td>\n",
              "      <td>1028</td>\n",
              "      <td>1378</td>\n",
              "      <td>1170</td>\n",
              "      <td>713</td>\n",
              "      <td>858</td>\n",
              "      <td>1537</td>\n",
              "      <td>2212</td>\n",
              "      <td>2555</td>\n",
              "      <td>1999</td>\n",
              "      <td>2395</td>\n",
              "      <td>3326</td>\n",
              "      <td>4067</td>\n",
              "      <td>3697</td>\n",
              "      <td>3479</td>\n",
              "      <td>2978</td>\n",
              "      <td>3436</td>\n",
              "      <td>3009</td>\n",
              "      <td>2652</td>\n",
              "      <td>2111</td>\n",
              "      <td>1746</td>\n",
              "      <td>1758</td>\n",
              "      <td>2203</td>\n",
              "      <td>2635</td>\n",
              "      <td>2004</td>\n",
              "    </tr>\n",
              "    <tr>\n",
              "      <th>1</th>\n",
              "      <td>Albania</td>\n",
              "      <td>Europe</td>\n",
              "      <td>Southern Europe</td>\n",
              "      <td>Developed regions</td>\n",
              "      <td>1</td>\n",
              "      <td>0</td>\n",
              "      <td>0</td>\n",
              "      <td>0</td>\n",
              "      <td>0</td>\n",
              "      <td>0</td>\n",
              "      <td>1</td>\n",
              "      <td>2</td>\n",
              "      <td>2</td>\n",
              "      <td>3</td>\n",
              "      <td>3</td>\n",
              "      <td>21</td>\n",
              "      <td>56</td>\n",
              "      <td>96</td>\n",
              "      <td>71</td>\n",
              "      <td>63</td>\n",
              "      <td>113</td>\n",
              "      <td>307</td>\n",
              "      <td>574</td>\n",
              "      <td>1264</td>\n",
              "      <td>1816</td>\n",
              "      <td>1602</td>\n",
              "      <td>1021</td>\n",
              "      <td>853</td>\n",
              "      <td>1450</td>\n",
              "      <td>1223</td>\n",
              "      <td>856</td>\n",
              "      <td>702</td>\n",
              "      <td>560</td>\n",
              "      <td>716</td>\n",
              "      <td>561</td>\n",
              "      <td>539</td>\n",
              "      <td>620</td>\n",
              "      <td>603</td>\n",
              "    </tr>\n",
              "  </tbody>\n",
              "</table>\n",
              "</div>"
            ],
            "text/plain": [
              "        OdName AreaName          RegName  ...  2011  2012  2013\n",
              "0  Afghanistan     Asia    Southern Asia  ...  2203  2635  2004\n",
              "1      Albania   Europe  Southern Europe  ...   539   620   603\n",
              "\n",
              "[2 rows x 38 columns]"
            ]
          },
          "metadata": {
            "tags": []
          },
          "execution_count": 11
        }
      ]
    },
    {
      "cell_type": "markdown",
      "metadata": {
        "button": false,
        "deletable": true,
        "new_sheet": false,
        "run_control": {
          "read_only": false
        },
        "id": "KvupIb8k3mld",
        "colab_type": "text"
      },
      "source": [
        "Let's rename the columns so that they make sense. We can use `rename()` method by passing in a dictionary of old and new names as follows:"
      ]
    },
    {
      "cell_type": "code",
      "metadata": {
        "button": false,
        "deletable": true,
        "new_sheet": false,
        "run_control": {
          "read_only": false
        },
        "scrolled": false,
        "id": "zE4mdZvZ3mle",
        "colab_type": "code",
        "colab": {
          "base_uri": "https://localhost:8080/",
          "height": 170
        },
        "outputId": "549a6bbe-b8b6-4bb2-c353-c16cad02e7ce"
      },
      "source": [
        "df_can.rename(columns={'OdName':'Country', 'AreaName':'Continent', 'RegName':'Region'}, inplace=True)\n",
        "df_can.columns"
      ],
      "execution_count": 12,
      "outputs": [
        {
          "output_type": "execute_result",
          "data": {
            "text/plain": [
              "Index([  'Country', 'Continent',    'Region',   'DevName',        1980,\n",
              "              1981,        1982,        1983,        1984,        1985,\n",
              "              1986,        1987,        1988,        1989,        1990,\n",
              "              1991,        1992,        1993,        1994,        1995,\n",
              "              1996,        1997,        1998,        1999,        2000,\n",
              "              2001,        2002,        2003,        2004,        2005,\n",
              "              2006,        2007,        2008,        2009,        2010,\n",
              "              2011,        2012,        2013],\n",
              "      dtype='object')"
            ]
          },
          "metadata": {
            "tags": []
          },
          "execution_count": 12
        }
      ]
    },
    {
      "cell_type": "markdown",
      "metadata": {
        "button": false,
        "deletable": true,
        "new_sheet": false,
        "run_control": {
          "read_only": false
        },
        "id": "IdncfVld3mli",
        "colab_type": "text"
      },
      "source": [
        "We will also add a 'Total' column that sums up the total immigrants by country over the entire period 1980 - 2013, as follows:"
      ]
    },
    {
      "cell_type": "code",
      "metadata": {
        "button": false,
        "deletable": true,
        "new_sheet": false,
        "run_control": {
          "read_only": false
        },
        "scrolled": false,
        "id": "5SZflKUT3mli",
        "colab_type": "code",
        "colab": {
          "base_uri": "https://localhost:8080/",
          "height": 626
        },
        "outputId": "a38907f5-1c3e-4e83-ac52-608d8ba58161"
      },
      "source": [
        "df_can['Total'] = df_can.sum(axis=1)\n",
        "df_can"
      ],
      "execution_count": 14,
      "outputs": [
        {
          "output_type": "execute_result",
          "data": {
            "text/html": [
              "<div>\n",
              "<style scoped>\n",
              "    .dataframe tbody tr th:only-of-type {\n",
              "        vertical-align: middle;\n",
              "    }\n",
              "\n",
              "    .dataframe tbody tr th {\n",
              "        vertical-align: top;\n",
              "    }\n",
              "\n",
              "    .dataframe thead th {\n",
              "        text-align: right;\n",
              "    }\n",
              "</style>\n",
              "<table border=\"1\" class=\"dataframe\">\n",
              "  <thead>\n",
              "    <tr style=\"text-align: right;\">\n",
              "      <th></th>\n",
              "      <th>Country</th>\n",
              "      <th>Continent</th>\n",
              "      <th>Region</th>\n",
              "      <th>DevName</th>\n",
              "      <th>1980</th>\n",
              "      <th>1981</th>\n",
              "      <th>1982</th>\n",
              "      <th>1983</th>\n",
              "      <th>1984</th>\n",
              "      <th>1985</th>\n",
              "      <th>1986</th>\n",
              "      <th>1987</th>\n",
              "      <th>1988</th>\n",
              "      <th>1989</th>\n",
              "      <th>1990</th>\n",
              "      <th>1991</th>\n",
              "      <th>1992</th>\n",
              "      <th>1993</th>\n",
              "      <th>1994</th>\n",
              "      <th>1995</th>\n",
              "      <th>1996</th>\n",
              "      <th>1997</th>\n",
              "      <th>1998</th>\n",
              "      <th>1999</th>\n",
              "      <th>2000</th>\n",
              "      <th>2001</th>\n",
              "      <th>2002</th>\n",
              "      <th>2003</th>\n",
              "      <th>2004</th>\n",
              "      <th>2005</th>\n",
              "      <th>2006</th>\n",
              "      <th>2007</th>\n",
              "      <th>2008</th>\n",
              "      <th>2009</th>\n",
              "      <th>2010</th>\n",
              "      <th>2011</th>\n",
              "      <th>2012</th>\n",
              "      <th>2013</th>\n",
              "      <th>Total</th>\n",
              "    </tr>\n",
              "  </thead>\n",
              "  <tbody>\n",
              "    <tr>\n",
              "      <th>0</th>\n",
              "      <td>Afghanistan</td>\n",
              "      <td>Asia</td>\n",
              "      <td>Southern Asia</td>\n",
              "      <td>Developing regions</td>\n",
              "      <td>16</td>\n",
              "      <td>39</td>\n",
              "      <td>39</td>\n",
              "      <td>47</td>\n",
              "      <td>71</td>\n",
              "      <td>340</td>\n",
              "      <td>496</td>\n",
              "      <td>741</td>\n",
              "      <td>828</td>\n",
              "      <td>1076</td>\n",
              "      <td>1028</td>\n",
              "      <td>1378</td>\n",
              "      <td>1170</td>\n",
              "      <td>713</td>\n",
              "      <td>858</td>\n",
              "      <td>1537</td>\n",
              "      <td>2212</td>\n",
              "      <td>2555</td>\n",
              "      <td>1999</td>\n",
              "      <td>2395</td>\n",
              "      <td>3326</td>\n",
              "      <td>4067</td>\n",
              "      <td>3697</td>\n",
              "      <td>3479</td>\n",
              "      <td>2978</td>\n",
              "      <td>3436</td>\n",
              "      <td>3009</td>\n",
              "      <td>2652</td>\n",
              "      <td>2111</td>\n",
              "      <td>1746</td>\n",
              "      <td>1758</td>\n",
              "      <td>2203</td>\n",
              "      <td>2635</td>\n",
              "      <td>2004</td>\n",
              "      <td>117278</td>\n",
              "    </tr>\n",
              "    <tr>\n",
              "      <th>1</th>\n",
              "      <td>Albania</td>\n",
              "      <td>Europe</td>\n",
              "      <td>Southern Europe</td>\n",
              "      <td>Developed regions</td>\n",
              "      <td>1</td>\n",
              "      <td>0</td>\n",
              "      <td>0</td>\n",
              "      <td>0</td>\n",
              "      <td>0</td>\n",
              "      <td>0</td>\n",
              "      <td>1</td>\n",
              "      <td>2</td>\n",
              "      <td>2</td>\n",
              "      <td>3</td>\n",
              "      <td>3</td>\n",
              "      <td>21</td>\n",
              "      <td>56</td>\n",
              "      <td>96</td>\n",
              "      <td>71</td>\n",
              "      <td>63</td>\n",
              "      <td>113</td>\n",
              "      <td>307</td>\n",
              "      <td>574</td>\n",
              "      <td>1264</td>\n",
              "      <td>1816</td>\n",
              "      <td>1602</td>\n",
              "      <td>1021</td>\n",
              "      <td>853</td>\n",
              "      <td>1450</td>\n",
              "      <td>1223</td>\n",
              "      <td>856</td>\n",
              "      <td>702</td>\n",
              "      <td>560</td>\n",
              "      <td>716</td>\n",
              "      <td>561</td>\n",
              "      <td>539</td>\n",
              "      <td>620</td>\n",
              "      <td>603</td>\n",
              "      <td>31398</td>\n",
              "    </tr>\n",
              "    <tr>\n",
              "      <th>2</th>\n",
              "      <td>Algeria</td>\n",
              "      <td>Africa</td>\n",
              "      <td>Northern Africa</td>\n",
              "      <td>Developing regions</td>\n",
              "      <td>80</td>\n",
              "      <td>67</td>\n",
              "      <td>71</td>\n",
              "      <td>69</td>\n",
              "      <td>63</td>\n",
              "      <td>44</td>\n",
              "      <td>69</td>\n",
              "      <td>132</td>\n",
              "      <td>242</td>\n",
              "      <td>434</td>\n",
              "      <td>491</td>\n",
              "      <td>872</td>\n",
              "      <td>795</td>\n",
              "      <td>717</td>\n",
              "      <td>595</td>\n",
              "      <td>1106</td>\n",
              "      <td>2054</td>\n",
              "      <td>1842</td>\n",
              "      <td>2292</td>\n",
              "      <td>2389</td>\n",
              "      <td>2867</td>\n",
              "      <td>3418</td>\n",
              "      <td>3406</td>\n",
              "      <td>3072</td>\n",
              "      <td>3616</td>\n",
              "      <td>3626</td>\n",
              "      <td>4807</td>\n",
              "      <td>3623</td>\n",
              "      <td>4005</td>\n",
              "      <td>5393</td>\n",
              "      <td>4752</td>\n",
              "      <td>4325</td>\n",
              "      <td>3774</td>\n",
              "      <td>4331</td>\n",
              "      <td>138878</td>\n",
              "    </tr>\n",
              "    <tr>\n",
              "      <th>3</th>\n",
              "      <td>American Samoa</td>\n",
              "      <td>Oceania</td>\n",
              "      <td>Polynesia</td>\n",
              "      <td>Developing regions</td>\n",
              "      <td>0</td>\n",
              "      <td>1</td>\n",
              "      <td>0</td>\n",
              "      <td>0</td>\n",
              "      <td>0</td>\n",
              "      <td>0</td>\n",
              "      <td>0</td>\n",
              "      <td>1</td>\n",
              "      <td>0</td>\n",
              "      <td>1</td>\n",
              "      <td>2</td>\n",
              "      <td>0</td>\n",
              "      <td>0</td>\n",
              "      <td>0</td>\n",
              "      <td>0</td>\n",
              "      <td>0</td>\n",
              "      <td>0</td>\n",
              "      <td>0</td>\n",
              "      <td>0</td>\n",
              "      <td>0</td>\n",
              "      <td>0</td>\n",
              "      <td>0</td>\n",
              "      <td>0</td>\n",
              "      <td>0</td>\n",
              "      <td>0</td>\n",
              "      <td>0</td>\n",
              "      <td>1</td>\n",
              "      <td>0</td>\n",
              "      <td>0</td>\n",
              "      <td>0</td>\n",
              "      <td>0</td>\n",
              "      <td>0</td>\n",
              "      <td>0</td>\n",
              "      <td>0</td>\n",
              "      <td>12</td>\n",
              "    </tr>\n",
              "    <tr>\n",
              "      <th>4</th>\n",
              "      <td>Andorra</td>\n",
              "      <td>Europe</td>\n",
              "      <td>Southern Europe</td>\n",
              "      <td>Developed regions</td>\n",
              "      <td>0</td>\n",
              "      <td>0</td>\n",
              "      <td>0</td>\n",
              "      <td>0</td>\n",
              "      <td>0</td>\n",
              "      <td>0</td>\n",
              "      <td>2</td>\n",
              "      <td>0</td>\n",
              "      <td>0</td>\n",
              "      <td>0</td>\n",
              "      <td>3</td>\n",
              "      <td>0</td>\n",
              "      <td>1</td>\n",
              "      <td>0</td>\n",
              "      <td>0</td>\n",
              "      <td>0</td>\n",
              "      <td>0</td>\n",
              "      <td>0</td>\n",
              "      <td>2</td>\n",
              "      <td>0</td>\n",
              "      <td>0</td>\n",
              "      <td>1</td>\n",
              "      <td>0</td>\n",
              "      <td>2</td>\n",
              "      <td>0</td>\n",
              "      <td>0</td>\n",
              "      <td>1</td>\n",
              "      <td>1</td>\n",
              "      <td>0</td>\n",
              "      <td>0</td>\n",
              "      <td>0</td>\n",
              "      <td>0</td>\n",
              "      <td>1</td>\n",
              "      <td>1</td>\n",
              "      <td>30</td>\n",
              "    </tr>\n",
              "    <tr>\n",
              "      <th>...</th>\n",
              "      <td>...</td>\n",
              "      <td>...</td>\n",
              "      <td>...</td>\n",
              "      <td>...</td>\n",
              "      <td>...</td>\n",
              "      <td>...</td>\n",
              "      <td>...</td>\n",
              "      <td>...</td>\n",
              "      <td>...</td>\n",
              "      <td>...</td>\n",
              "      <td>...</td>\n",
              "      <td>...</td>\n",
              "      <td>...</td>\n",
              "      <td>...</td>\n",
              "      <td>...</td>\n",
              "      <td>...</td>\n",
              "      <td>...</td>\n",
              "      <td>...</td>\n",
              "      <td>...</td>\n",
              "      <td>...</td>\n",
              "      <td>...</td>\n",
              "      <td>...</td>\n",
              "      <td>...</td>\n",
              "      <td>...</td>\n",
              "      <td>...</td>\n",
              "      <td>...</td>\n",
              "      <td>...</td>\n",
              "      <td>...</td>\n",
              "      <td>...</td>\n",
              "      <td>...</td>\n",
              "      <td>...</td>\n",
              "      <td>...</td>\n",
              "      <td>...</td>\n",
              "      <td>...</td>\n",
              "      <td>...</td>\n",
              "      <td>...</td>\n",
              "      <td>...</td>\n",
              "      <td>...</td>\n",
              "      <td>...</td>\n",
              "    </tr>\n",
              "    <tr>\n",
              "      <th>190</th>\n",
              "      <td>Viet Nam</td>\n",
              "      <td>Asia</td>\n",
              "      <td>South-Eastern Asia</td>\n",
              "      <td>Developing regions</td>\n",
              "      <td>1191</td>\n",
              "      <td>1829</td>\n",
              "      <td>2162</td>\n",
              "      <td>3404</td>\n",
              "      <td>7583</td>\n",
              "      <td>5907</td>\n",
              "      <td>2741</td>\n",
              "      <td>1406</td>\n",
              "      <td>1411</td>\n",
              "      <td>3004</td>\n",
              "      <td>3801</td>\n",
              "      <td>5870</td>\n",
              "      <td>5416</td>\n",
              "      <td>6547</td>\n",
              "      <td>5105</td>\n",
              "      <td>3723</td>\n",
              "      <td>2462</td>\n",
              "      <td>1752</td>\n",
              "      <td>1631</td>\n",
              "      <td>1419</td>\n",
              "      <td>1803</td>\n",
              "      <td>2117</td>\n",
              "      <td>2291</td>\n",
              "      <td>1713</td>\n",
              "      <td>1816</td>\n",
              "      <td>1852</td>\n",
              "      <td>3153</td>\n",
              "      <td>2574</td>\n",
              "      <td>1784</td>\n",
              "      <td>2171</td>\n",
              "      <td>1942</td>\n",
              "      <td>1723</td>\n",
              "      <td>1731</td>\n",
              "      <td>2112</td>\n",
              "      <td>194292</td>\n",
              "    </tr>\n",
              "    <tr>\n",
              "      <th>191</th>\n",
              "      <td>Western Sahara</td>\n",
              "      <td>Africa</td>\n",
              "      <td>Northern Africa</td>\n",
              "      <td>Developing regions</td>\n",
              "      <td>0</td>\n",
              "      <td>0</td>\n",
              "      <td>0</td>\n",
              "      <td>0</td>\n",
              "      <td>0</td>\n",
              "      <td>0</td>\n",
              "      <td>0</td>\n",
              "      <td>0</td>\n",
              "      <td>0</td>\n",
              "      <td>0</td>\n",
              "      <td>0</td>\n",
              "      <td>1</td>\n",
              "      <td>0</td>\n",
              "      <td>0</td>\n",
              "      <td>0</td>\n",
              "      <td>0</td>\n",
              "      <td>0</td>\n",
              "      <td>0</td>\n",
              "      <td>0</td>\n",
              "      <td>0</td>\n",
              "      <td>0</td>\n",
              "      <td>0</td>\n",
              "      <td>0</td>\n",
              "      <td>0</td>\n",
              "      <td>0</td>\n",
              "      <td>0</td>\n",
              "      <td>1</td>\n",
              "      <td>0</td>\n",
              "      <td>0</td>\n",
              "      <td>0</td>\n",
              "      <td>0</td>\n",
              "      <td>0</td>\n",
              "      <td>0</td>\n",
              "      <td>0</td>\n",
              "      <td>4</td>\n",
              "    </tr>\n",
              "    <tr>\n",
              "      <th>192</th>\n",
              "      <td>Yemen</td>\n",
              "      <td>Asia</td>\n",
              "      <td>Western Asia</td>\n",
              "      <td>Developing regions</td>\n",
              "      <td>1</td>\n",
              "      <td>2</td>\n",
              "      <td>1</td>\n",
              "      <td>6</td>\n",
              "      <td>0</td>\n",
              "      <td>18</td>\n",
              "      <td>7</td>\n",
              "      <td>12</td>\n",
              "      <td>7</td>\n",
              "      <td>18</td>\n",
              "      <td>4</td>\n",
              "      <td>18</td>\n",
              "      <td>41</td>\n",
              "      <td>41</td>\n",
              "      <td>39</td>\n",
              "      <td>73</td>\n",
              "      <td>144</td>\n",
              "      <td>121</td>\n",
              "      <td>141</td>\n",
              "      <td>134</td>\n",
              "      <td>122</td>\n",
              "      <td>181</td>\n",
              "      <td>171</td>\n",
              "      <td>113</td>\n",
              "      <td>124</td>\n",
              "      <td>161</td>\n",
              "      <td>140</td>\n",
              "      <td>122</td>\n",
              "      <td>133</td>\n",
              "      <td>128</td>\n",
              "      <td>211</td>\n",
              "      <td>160</td>\n",
              "      <td>174</td>\n",
              "      <td>217</td>\n",
              "      <td>5970</td>\n",
              "    </tr>\n",
              "    <tr>\n",
              "      <th>193</th>\n",
              "      <td>Zambia</td>\n",
              "      <td>Africa</td>\n",
              "      <td>Eastern Africa</td>\n",
              "      <td>Developing regions</td>\n",
              "      <td>11</td>\n",
              "      <td>17</td>\n",
              "      <td>11</td>\n",
              "      <td>7</td>\n",
              "      <td>16</td>\n",
              "      <td>9</td>\n",
              "      <td>15</td>\n",
              "      <td>23</td>\n",
              "      <td>44</td>\n",
              "      <td>68</td>\n",
              "      <td>77</td>\n",
              "      <td>69</td>\n",
              "      <td>73</td>\n",
              "      <td>46</td>\n",
              "      <td>51</td>\n",
              "      <td>41</td>\n",
              "      <td>34</td>\n",
              "      <td>72</td>\n",
              "      <td>34</td>\n",
              "      <td>51</td>\n",
              "      <td>39</td>\n",
              "      <td>78</td>\n",
              "      <td>50</td>\n",
              "      <td>46</td>\n",
              "      <td>56</td>\n",
              "      <td>91</td>\n",
              "      <td>77</td>\n",
              "      <td>71</td>\n",
              "      <td>64</td>\n",
              "      <td>60</td>\n",
              "      <td>102</td>\n",
              "      <td>69</td>\n",
              "      <td>46</td>\n",
              "      <td>59</td>\n",
              "      <td>3354</td>\n",
              "    </tr>\n",
              "    <tr>\n",
              "      <th>194</th>\n",
              "      <td>Zimbabwe</td>\n",
              "      <td>Africa</td>\n",
              "      <td>Eastern Africa</td>\n",
              "      <td>Developing regions</td>\n",
              "      <td>72</td>\n",
              "      <td>114</td>\n",
              "      <td>102</td>\n",
              "      <td>44</td>\n",
              "      <td>32</td>\n",
              "      <td>29</td>\n",
              "      <td>43</td>\n",
              "      <td>68</td>\n",
              "      <td>99</td>\n",
              "      <td>187</td>\n",
              "      <td>129</td>\n",
              "      <td>94</td>\n",
              "      <td>61</td>\n",
              "      <td>72</td>\n",
              "      <td>78</td>\n",
              "      <td>58</td>\n",
              "      <td>39</td>\n",
              "      <td>44</td>\n",
              "      <td>43</td>\n",
              "      <td>49</td>\n",
              "      <td>98</td>\n",
              "      <td>110</td>\n",
              "      <td>191</td>\n",
              "      <td>669</td>\n",
              "      <td>1450</td>\n",
              "      <td>615</td>\n",
              "      <td>454</td>\n",
              "      <td>663</td>\n",
              "      <td>611</td>\n",
              "      <td>508</td>\n",
              "      <td>494</td>\n",
              "      <td>434</td>\n",
              "      <td>437</td>\n",
              "      <td>407</td>\n",
              "      <td>17196</td>\n",
              "    </tr>\n",
              "  </tbody>\n",
              "</table>\n",
              "<p>195 rows × 39 columns</p>\n",
              "</div>"
            ],
            "text/plain": [
              "            Country Continent              Region  ...  2012  2013   Total\n",
              "0       Afghanistan      Asia       Southern Asia  ...  2635  2004  117278\n",
              "1           Albania    Europe     Southern Europe  ...   620   603   31398\n",
              "2           Algeria    Africa     Northern Africa  ...  3774  4331  138878\n",
              "3    American Samoa   Oceania           Polynesia  ...     0     0      12\n",
              "4           Andorra    Europe     Southern Europe  ...     1     1      30\n",
              "..              ...       ...                 ...  ...   ...   ...     ...\n",
              "190        Viet Nam      Asia  South-Eastern Asia  ...  1731  2112  194292\n",
              "191  Western Sahara    Africa     Northern Africa  ...     0     0       4\n",
              "192           Yemen      Asia        Western Asia  ...   174   217    5970\n",
              "193          Zambia    Africa      Eastern Africa  ...    46    59    3354\n",
              "194        Zimbabwe    Africa      Eastern Africa  ...   437   407   17196\n",
              "\n",
              "[195 rows x 39 columns]"
            ]
          },
          "metadata": {
            "tags": []
          },
          "execution_count": 14
        }
      ]
    },
    {
      "cell_type": "markdown",
      "metadata": {
        "button": false,
        "deletable": true,
        "new_sheet": false,
        "run_control": {
          "read_only": false
        },
        "id": "7iyTTI0-3mll",
        "colab_type": "text"
      },
      "source": [
        "We can check to see how many null objects we have in the dataset as follows:"
      ]
    },
    {
      "cell_type": "code",
      "metadata": {
        "button": false,
        "deletable": true,
        "new_sheet": false,
        "run_control": {
          "read_only": false
        },
        "scrolled": true,
        "id": "EHuTcZRp3mlm",
        "colab_type": "code",
        "colab": {
          "base_uri": "https://localhost:8080/",
          "height": 697
        },
        "outputId": "51a471e4-32a6-4190-c9df-34ca723104cc"
      },
      "source": [
        "df_can.isnull().sum()"
      ],
      "execution_count": 15,
      "outputs": [
        {
          "output_type": "execute_result",
          "data": {
            "text/plain": [
              "Country      0\n",
              "Continent    0\n",
              "Region       0\n",
              "DevName      0\n",
              "1980         0\n",
              "1981         0\n",
              "1982         0\n",
              "1983         0\n",
              "1984         0\n",
              "1985         0\n",
              "1986         0\n",
              "1987         0\n",
              "1988         0\n",
              "1989         0\n",
              "1990         0\n",
              "1991         0\n",
              "1992         0\n",
              "1993         0\n",
              "1994         0\n",
              "1995         0\n",
              "1996         0\n",
              "1997         0\n",
              "1998         0\n",
              "1999         0\n",
              "2000         0\n",
              "2001         0\n",
              "2002         0\n",
              "2003         0\n",
              "2004         0\n",
              "2005         0\n",
              "2006         0\n",
              "2007         0\n",
              "2008         0\n",
              "2009         0\n",
              "2010         0\n",
              "2011         0\n",
              "2012         0\n",
              "2013         0\n",
              "Total        0\n",
              "dtype: int64"
            ]
          },
          "metadata": {
            "tags": []
          },
          "execution_count": 15
        }
      ]
    },
    {
      "cell_type": "markdown",
      "metadata": {
        "button": false,
        "deletable": true,
        "new_sheet": false,
        "run_control": {
          "read_only": false
        },
        "id": "v8Iu_pmj3mlp",
        "colab_type": "text"
      },
      "source": [
        "Finally, let's view a quick summary of each column in our dataframe using the `describe()` method."
      ]
    },
    {
      "cell_type": "code",
      "metadata": {
        "button": false,
        "deletable": true,
        "new_sheet": false,
        "run_control": {
          "read_only": false
        },
        "scrolled": false,
        "id": "0cErAfTU3mlq",
        "colab_type": "code",
        "colab": {
          "base_uri": "https://localhost:8080/",
          "height": 317
        },
        "outputId": "c7e826a7-ed33-4fab-a543-85c0a88b239a"
      },
      "source": [
        "df_can.describe()"
      ],
      "execution_count": 16,
      "outputs": [
        {
          "output_type": "execute_result",
          "data": {
            "text/html": [
              "<div>\n",
              "<style scoped>\n",
              "    .dataframe tbody tr th:only-of-type {\n",
              "        vertical-align: middle;\n",
              "    }\n",
              "\n",
              "    .dataframe tbody tr th {\n",
              "        vertical-align: top;\n",
              "    }\n",
              "\n",
              "    .dataframe thead th {\n",
              "        text-align: right;\n",
              "    }\n",
              "</style>\n",
              "<table border=\"1\" class=\"dataframe\">\n",
              "  <thead>\n",
              "    <tr style=\"text-align: right;\">\n",
              "      <th></th>\n",
              "      <th>1980</th>\n",
              "      <th>1981</th>\n",
              "      <th>1982</th>\n",
              "      <th>1983</th>\n",
              "      <th>1984</th>\n",
              "      <th>1985</th>\n",
              "      <th>1986</th>\n",
              "      <th>1987</th>\n",
              "      <th>1988</th>\n",
              "      <th>1989</th>\n",
              "      <th>1990</th>\n",
              "      <th>1991</th>\n",
              "      <th>1992</th>\n",
              "      <th>1993</th>\n",
              "      <th>1994</th>\n",
              "      <th>1995</th>\n",
              "      <th>1996</th>\n",
              "      <th>1997</th>\n",
              "      <th>1998</th>\n",
              "      <th>1999</th>\n",
              "      <th>2000</th>\n",
              "      <th>2001</th>\n",
              "      <th>2002</th>\n",
              "      <th>2003</th>\n",
              "      <th>2004</th>\n",
              "      <th>2005</th>\n",
              "      <th>2006</th>\n",
              "      <th>2007</th>\n",
              "      <th>2008</th>\n",
              "      <th>2009</th>\n",
              "      <th>2010</th>\n",
              "      <th>2011</th>\n",
              "      <th>2012</th>\n",
              "      <th>2013</th>\n",
              "      <th>Total</th>\n",
              "    </tr>\n",
              "  </thead>\n",
              "  <tbody>\n",
              "    <tr>\n",
              "      <th>count</th>\n",
              "      <td>195.000000</td>\n",
              "      <td>195.000000</td>\n",
              "      <td>195.000000</td>\n",
              "      <td>195.000000</td>\n",
              "      <td>195.000000</td>\n",
              "      <td>195.000000</td>\n",
              "      <td>195.000000</td>\n",
              "      <td>195.000000</td>\n",
              "      <td>195.000000</td>\n",
              "      <td>195.000000</td>\n",
              "      <td>195.000000</td>\n",
              "      <td>195.000000</td>\n",
              "      <td>195.000000</td>\n",
              "      <td>195.000000</td>\n",
              "      <td>195.000000</td>\n",
              "      <td>195.000000</td>\n",
              "      <td>195.000000</td>\n",
              "      <td>195.000000</td>\n",
              "      <td>195.000000</td>\n",
              "      <td>195.000000</td>\n",
              "      <td>195.000000</td>\n",
              "      <td>195.000000</td>\n",
              "      <td>195.000000</td>\n",
              "      <td>195.000000</td>\n",
              "      <td>195.000000</td>\n",
              "      <td>195.000000</td>\n",
              "      <td>195.000000</td>\n",
              "      <td>195.000000</td>\n",
              "      <td>195.000000</td>\n",
              "      <td>195.000000</td>\n",
              "      <td>195.000000</td>\n",
              "      <td>195.000000</td>\n",
              "      <td>195.000000</td>\n",
              "      <td>195.000000</td>\n",
              "      <td>1.950000e+02</td>\n",
              "    </tr>\n",
              "    <tr>\n",
              "      <th>mean</th>\n",
              "      <td>508.394872</td>\n",
              "      <td>566.989744</td>\n",
              "      <td>534.723077</td>\n",
              "      <td>387.435897</td>\n",
              "      <td>376.497436</td>\n",
              "      <td>358.861538</td>\n",
              "      <td>441.271795</td>\n",
              "      <td>691.133333</td>\n",
              "      <td>714.389744</td>\n",
              "      <td>843.241026</td>\n",
              "      <td>964.379487</td>\n",
              "      <td>1064.148718</td>\n",
              "      <td>1136.856410</td>\n",
              "      <td>1138.712821</td>\n",
              "      <td>993.153846</td>\n",
              "      <td>962.625641</td>\n",
              "      <td>1026.076923</td>\n",
              "      <td>989.153846</td>\n",
              "      <td>824.241026</td>\n",
              "      <td>922.143590</td>\n",
              "      <td>1111.343590</td>\n",
              "      <td>1244.323077</td>\n",
              "      <td>1144.158974</td>\n",
              "      <td>1114.343590</td>\n",
              "      <td>1190.169231</td>\n",
              "      <td>1320.292308</td>\n",
              "      <td>1266.958974</td>\n",
              "      <td>1191.820513</td>\n",
              "      <td>1246.394872</td>\n",
              "      <td>1275.733333</td>\n",
              "      <td>1420.287179</td>\n",
              "      <td>1262.533333</td>\n",
              "      <td>1313.958974</td>\n",
              "      <td>1320.702564</td>\n",
              "      <td>6.573490e+04</td>\n",
              "    </tr>\n",
              "    <tr>\n",
              "      <th>std</th>\n",
              "      <td>1949.588546</td>\n",
              "      <td>2152.643752</td>\n",
              "      <td>1866.997511</td>\n",
              "      <td>1204.333597</td>\n",
              "      <td>1198.246371</td>\n",
              "      <td>1079.309600</td>\n",
              "      <td>1225.576630</td>\n",
              "      <td>2109.205607</td>\n",
              "      <td>2443.606788</td>\n",
              "      <td>2555.048874</td>\n",
              "      <td>3158.730195</td>\n",
              "      <td>2952.093731</td>\n",
              "      <td>3330.083742</td>\n",
              "      <td>3495.220063</td>\n",
              "      <td>3613.336444</td>\n",
              "      <td>3091.492343</td>\n",
              "      <td>3321.045004</td>\n",
              "      <td>3070.761447</td>\n",
              "      <td>2385.943695</td>\n",
              "      <td>2887.632585</td>\n",
              "      <td>3664.042361</td>\n",
              "      <td>3961.621410</td>\n",
              "      <td>3660.579836</td>\n",
              "      <td>3623.509519</td>\n",
              "      <td>3710.505369</td>\n",
              "      <td>4425.957828</td>\n",
              "      <td>3926.717747</td>\n",
              "      <td>3443.542409</td>\n",
              "      <td>3694.573544</td>\n",
              "      <td>3829.630424</td>\n",
              "      <td>4462.946328</td>\n",
              "      <td>4030.084313</td>\n",
              "      <td>4247.555161</td>\n",
              "      <td>4237.951988</td>\n",
              "      <td>1.835710e+05</td>\n",
              "    </tr>\n",
              "    <tr>\n",
              "      <th>min</th>\n",
              "      <td>0.000000</td>\n",
              "      <td>0.000000</td>\n",
              "      <td>0.000000</td>\n",
              "      <td>0.000000</td>\n",
              "      <td>0.000000</td>\n",
              "      <td>0.000000</td>\n",
              "      <td>0.000000</td>\n",
              "      <td>0.000000</td>\n",
              "      <td>0.000000</td>\n",
              "      <td>0.000000</td>\n",
              "      <td>0.000000</td>\n",
              "      <td>0.000000</td>\n",
              "      <td>0.000000</td>\n",
              "      <td>0.000000</td>\n",
              "      <td>0.000000</td>\n",
              "      <td>0.000000</td>\n",
              "      <td>0.000000</td>\n",
              "      <td>0.000000</td>\n",
              "      <td>0.000000</td>\n",
              "      <td>0.000000</td>\n",
              "      <td>0.000000</td>\n",
              "      <td>0.000000</td>\n",
              "      <td>0.000000</td>\n",
              "      <td>0.000000</td>\n",
              "      <td>0.000000</td>\n",
              "      <td>0.000000</td>\n",
              "      <td>0.000000</td>\n",
              "      <td>0.000000</td>\n",
              "      <td>0.000000</td>\n",
              "      <td>0.000000</td>\n",
              "      <td>0.000000</td>\n",
              "      <td>0.000000</td>\n",
              "      <td>0.000000</td>\n",
              "      <td>0.000000</td>\n",
              "      <td>2.000000e+00</td>\n",
              "    </tr>\n",
              "    <tr>\n",
              "      <th>25%</th>\n",
              "      <td>0.000000</td>\n",
              "      <td>0.000000</td>\n",
              "      <td>0.000000</td>\n",
              "      <td>0.000000</td>\n",
              "      <td>0.000000</td>\n",
              "      <td>0.000000</td>\n",
              "      <td>0.500000</td>\n",
              "      <td>0.500000</td>\n",
              "      <td>1.000000</td>\n",
              "      <td>1.000000</td>\n",
              "      <td>2.000000</td>\n",
              "      <td>3.000000</td>\n",
              "      <td>6.500000</td>\n",
              "      <td>11.500000</td>\n",
              "      <td>9.500000</td>\n",
              "      <td>10.500000</td>\n",
              "      <td>14.500000</td>\n",
              "      <td>19.500000</td>\n",
              "      <td>15.000000</td>\n",
              "      <td>16.000000</td>\n",
              "      <td>16.000000</td>\n",
              "      <td>22.000000</td>\n",
              "      <td>18.500000</td>\n",
              "      <td>21.500000</td>\n",
              "      <td>19.000000</td>\n",
              "      <td>28.500000</td>\n",
              "      <td>25.000000</td>\n",
              "      <td>31.000000</td>\n",
              "      <td>31.000000</td>\n",
              "      <td>36.000000</td>\n",
              "      <td>40.500000</td>\n",
              "      <td>37.500000</td>\n",
              "      <td>42.500000</td>\n",
              "      <td>45.000000</td>\n",
              "      <td>1.904000e+03</td>\n",
              "    </tr>\n",
              "    <tr>\n",
              "      <th>50%</th>\n",
              "      <td>13.000000</td>\n",
              "      <td>10.000000</td>\n",
              "      <td>11.000000</td>\n",
              "      <td>12.000000</td>\n",
              "      <td>13.000000</td>\n",
              "      <td>17.000000</td>\n",
              "      <td>18.000000</td>\n",
              "      <td>26.000000</td>\n",
              "      <td>34.000000</td>\n",
              "      <td>44.000000</td>\n",
              "      <td>38.000000</td>\n",
              "      <td>51.000000</td>\n",
              "      <td>74.000000</td>\n",
              "      <td>85.000000</td>\n",
              "      <td>76.000000</td>\n",
              "      <td>91.000000</td>\n",
              "      <td>118.000000</td>\n",
              "      <td>114.000000</td>\n",
              "      <td>106.000000</td>\n",
              "      <td>116.000000</td>\n",
              "      <td>138.000000</td>\n",
              "      <td>169.000000</td>\n",
              "      <td>165.000000</td>\n",
              "      <td>161.000000</td>\n",
              "      <td>191.000000</td>\n",
              "      <td>210.000000</td>\n",
              "      <td>218.000000</td>\n",
              "      <td>198.000000</td>\n",
              "      <td>205.000000</td>\n",
              "      <td>214.000000</td>\n",
              "      <td>211.000000</td>\n",
              "      <td>179.000000</td>\n",
              "      <td>233.000000</td>\n",
              "      <td>213.000000</td>\n",
              "      <td>1.003600e+04</td>\n",
              "    </tr>\n",
              "    <tr>\n",
              "      <th>75%</th>\n",
              "      <td>251.500000</td>\n",
              "      <td>295.500000</td>\n",
              "      <td>275.000000</td>\n",
              "      <td>173.000000</td>\n",
              "      <td>181.000000</td>\n",
              "      <td>197.000000</td>\n",
              "      <td>254.000000</td>\n",
              "      <td>434.000000</td>\n",
              "      <td>409.000000</td>\n",
              "      <td>508.500000</td>\n",
              "      <td>612.500000</td>\n",
              "      <td>657.500000</td>\n",
              "      <td>655.000000</td>\n",
              "      <td>722.500000</td>\n",
              "      <td>545.000000</td>\n",
              "      <td>550.500000</td>\n",
              "      <td>603.500000</td>\n",
              "      <td>612.500000</td>\n",
              "      <td>535.500000</td>\n",
              "      <td>548.500000</td>\n",
              "      <td>659.000000</td>\n",
              "      <td>793.500000</td>\n",
              "      <td>686.000000</td>\n",
              "      <td>673.500000</td>\n",
              "      <td>756.500000</td>\n",
              "      <td>832.000000</td>\n",
              "      <td>842.000000</td>\n",
              "      <td>899.000000</td>\n",
              "      <td>934.500000</td>\n",
              "      <td>888.000000</td>\n",
              "      <td>932.000000</td>\n",
              "      <td>772.000000</td>\n",
              "      <td>783.000000</td>\n",
              "      <td>796.000000</td>\n",
              "      <td>4.447900e+04</td>\n",
              "    </tr>\n",
              "    <tr>\n",
              "      <th>max</th>\n",
              "      <td>22045.000000</td>\n",
              "      <td>24796.000000</td>\n",
              "      <td>20620.000000</td>\n",
              "      <td>10015.000000</td>\n",
              "      <td>10170.000000</td>\n",
              "      <td>9564.000000</td>\n",
              "      <td>9470.000000</td>\n",
              "      <td>21337.000000</td>\n",
              "      <td>27359.000000</td>\n",
              "      <td>23795.000000</td>\n",
              "      <td>31668.000000</td>\n",
              "      <td>23380.000000</td>\n",
              "      <td>34123.000000</td>\n",
              "      <td>33720.000000</td>\n",
              "      <td>39231.000000</td>\n",
              "      <td>30145.000000</td>\n",
              "      <td>29322.000000</td>\n",
              "      <td>22965.000000</td>\n",
              "      <td>21049.000000</td>\n",
              "      <td>30069.000000</td>\n",
              "      <td>35529.000000</td>\n",
              "      <td>36434.000000</td>\n",
              "      <td>31961.000000</td>\n",
              "      <td>36439.000000</td>\n",
              "      <td>36619.000000</td>\n",
              "      <td>42584.000000</td>\n",
              "      <td>33848.000000</td>\n",
              "      <td>28742.000000</td>\n",
              "      <td>30037.000000</td>\n",
              "      <td>29622.000000</td>\n",
              "      <td>38617.000000</td>\n",
              "      <td>36765.000000</td>\n",
              "      <td>34315.000000</td>\n",
              "      <td>34129.000000</td>\n",
              "      <td>1.383808e+06</td>\n",
              "    </tr>\n",
              "  </tbody>\n",
              "</table>\n",
              "</div>"
            ],
            "text/plain": [
              "               1980          1981  ...          2013         Total\n",
              "count    195.000000    195.000000  ...    195.000000  1.950000e+02\n",
              "mean     508.394872    566.989744  ...   1320.702564  6.573490e+04\n",
              "std     1949.588546   2152.643752  ...   4237.951988  1.835710e+05\n",
              "min        0.000000      0.000000  ...      0.000000  2.000000e+00\n",
              "25%        0.000000      0.000000  ...     45.000000  1.904000e+03\n",
              "50%       13.000000     10.000000  ...    213.000000  1.003600e+04\n",
              "75%      251.500000    295.500000  ...    796.000000  4.447900e+04\n",
              "max    22045.000000  24796.000000  ...  34129.000000  1.383808e+06\n",
              "\n",
              "[8 rows x 35 columns]"
            ]
          },
          "metadata": {
            "tags": []
          },
          "execution_count": 16
        }
      ]
    },
    {
      "cell_type": "markdown",
      "metadata": {
        "button": false,
        "deletable": true,
        "new_sheet": false,
        "run_control": {
          "read_only": false
        },
        "id": "2fkzizff3mlt",
        "colab_type": "text"
      },
      "source": [
        "---\n",
        "## *pandas* Intermediate: Indexing and Selection (slicing)<a id=\"6\"></a>\n"
      ]
    },
    {
      "cell_type": "markdown",
      "metadata": {
        "button": false,
        "deletable": true,
        "new_sheet": false,
        "run_control": {
          "read_only": false
        },
        "id": "rctqtlIO3mlu",
        "colab_type": "text"
      },
      "source": [
        "### Select Column\n",
        "**There are two ways to filter on a column name:**\n",
        "\n",
        "Method 1: Quick and easy, but only works if the column name does NOT have spaces or special characters.\n",
        "```python\n",
        "    df.column_name \n",
        "        (returns series)\n",
        "```\n",
        "\n",
        "Method 2: More robust, and can filter on multiple columns.\n",
        "\n",
        "```python\n",
        "    df['column']  \n",
        "        (returns series)\n",
        "```\n",
        "\n",
        "```python \n",
        "    df[['column 1', 'column 2']] \n",
        "        (returns dataframe)\n",
        "```\n",
        "---"
      ]
    },
    {
      "cell_type": "markdown",
      "metadata": {
        "button": false,
        "deletable": true,
        "new_sheet": false,
        "run_control": {
          "read_only": false
        },
        "id": "VnY4l62k3mlu",
        "colab_type": "text"
      },
      "source": [
        "Example: Let's try filtering on the list of countries ('Country')."
      ]
    },
    {
      "cell_type": "code",
      "metadata": {
        "button": false,
        "deletable": true,
        "new_sheet": false,
        "run_control": {
          "read_only": false
        },
        "scrolled": true,
        "id": "tuLZYl9L3mlv",
        "colab_type": "code",
        "colab": {
          "base_uri": "https://localhost:8080/",
          "height": 221
        },
        "outputId": "3eabf7b5-3601-48a1-a51c-eb5ebf304ca9"
      },
      "source": [
        "df_can.Country  # returns a series"
      ],
      "execution_count": 17,
      "outputs": [
        {
          "output_type": "execute_result",
          "data": {
            "text/plain": [
              "0         Afghanistan\n",
              "1             Albania\n",
              "2             Algeria\n",
              "3      American Samoa\n",
              "4             Andorra\n",
              "            ...      \n",
              "190          Viet Nam\n",
              "191    Western Sahara\n",
              "192             Yemen\n",
              "193            Zambia\n",
              "194          Zimbabwe\n",
              "Name: Country, Length: 195, dtype: object"
            ]
          },
          "metadata": {
            "tags": []
          },
          "execution_count": 17
        }
      ]
    },
    {
      "cell_type": "markdown",
      "metadata": {
        "button": false,
        "deletable": true,
        "new_sheet": false,
        "run_control": {
          "read_only": false
        },
        "id": "pPVZ75qu3mly",
        "colab_type": "text"
      },
      "source": [
        "Let's try filtering on the list of countries ('OdName') and the data for years: 1980 - 1985."
      ]
    },
    {
      "cell_type": "code",
      "metadata": {
        "button": false,
        "deletable": true,
        "new_sheet": false,
        "run_control": {
          "read_only": false
        },
        "id": "3Hh00kR13mlz",
        "colab_type": "code",
        "colab": {
          "base_uri": "https://localhost:8080/",
          "height": 419
        },
        "outputId": "e3e89d78-77c9-4c3d-c3c4-93c52f0df3b8"
      },
      "source": [
        "df_can[['Country', 1980, 1981, 1982, 1983, 1984, 1985]] # returns a dataframe\n",
        "# notice that 'Country' is string, and the years are integers. \n",
        "# for the sake of consistency, we will convert all column names to string later on."
      ],
      "execution_count": 18,
      "outputs": [
        {
          "output_type": "execute_result",
          "data": {
            "text/html": [
              "<div>\n",
              "<style scoped>\n",
              "    .dataframe tbody tr th:only-of-type {\n",
              "        vertical-align: middle;\n",
              "    }\n",
              "\n",
              "    .dataframe tbody tr th {\n",
              "        vertical-align: top;\n",
              "    }\n",
              "\n",
              "    .dataframe thead th {\n",
              "        text-align: right;\n",
              "    }\n",
              "</style>\n",
              "<table border=\"1\" class=\"dataframe\">\n",
              "  <thead>\n",
              "    <tr style=\"text-align: right;\">\n",
              "      <th></th>\n",
              "      <th>Country</th>\n",
              "      <th>1980</th>\n",
              "      <th>1981</th>\n",
              "      <th>1982</th>\n",
              "      <th>1983</th>\n",
              "      <th>1984</th>\n",
              "      <th>1985</th>\n",
              "    </tr>\n",
              "  </thead>\n",
              "  <tbody>\n",
              "    <tr>\n",
              "      <th>0</th>\n",
              "      <td>Afghanistan</td>\n",
              "      <td>16</td>\n",
              "      <td>39</td>\n",
              "      <td>39</td>\n",
              "      <td>47</td>\n",
              "      <td>71</td>\n",
              "      <td>340</td>\n",
              "    </tr>\n",
              "    <tr>\n",
              "      <th>1</th>\n",
              "      <td>Albania</td>\n",
              "      <td>1</td>\n",
              "      <td>0</td>\n",
              "      <td>0</td>\n",
              "      <td>0</td>\n",
              "      <td>0</td>\n",
              "      <td>0</td>\n",
              "    </tr>\n",
              "    <tr>\n",
              "      <th>2</th>\n",
              "      <td>Algeria</td>\n",
              "      <td>80</td>\n",
              "      <td>67</td>\n",
              "      <td>71</td>\n",
              "      <td>69</td>\n",
              "      <td>63</td>\n",
              "      <td>44</td>\n",
              "    </tr>\n",
              "    <tr>\n",
              "      <th>3</th>\n",
              "      <td>American Samoa</td>\n",
              "      <td>0</td>\n",
              "      <td>1</td>\n",
              "      <td>0</td>\n",
              "      <td>0</td>\n",
              "      <td>0</td>\n",
              "      <td>0</td>\n",
              "    </tr>\n",
              "    <tr>\n",
              "      <th>4</th>\n",
              "      <td>Andorra</td>\n",
              "      <td>0</td>\n",
              "      <td>0</td>\n",
              "      <td>0</td>\n",
              "      <td>0</td>\n",
              "      <td>0</td>\n",
              "      <td>0</td>\n",
              "    </tr>\n",
              "    <tr>\n",
              "      <th>...</th>\n",
              "      <td>...</td>\n",
              "      <td>...</td>\n",
              "      <td>...</td>\n",
              "      <td>...</td>\n",
              "      <td>...</td>\n",
              "      <td>...</td>\n",
              "      <td>...</td>\n",
              "    </tr>\n",
              "    <tr>\n",
              "      <th>190</th>\n",
              "      <td>Viet Nam</td>\n",
              "      <td>1191</td>\n",
              "      <td>1829</td>\n",
              "      <td>2162</td>\n",
              "      <td>3404</td>\n",
              "      <td>7583</td>\n",
              "      <td>5907</td>\n",
              "    </tr>\n",
              "    <tr>\n",
              "      <th>191</th>\n",
              "      <td>Western Sahara</td>\n",
              "      <td>0</td>\n",
              "      <td>0</td>\n",
              "      <td>0</td>\n",
              "      <td>0</td>\n",
              "      <td>0</td>\n",
              "      <td>0</td>\n",
              "    </tr>\n",
              "    <tr>\n",
              "      <th>192</th>\n",
              "      <td>Yemen</td>\n",
              "      <td>1</td>\n",
              "      <td>2</td>\n",
              "      <td>1</td>\n",
              "      <td>6</td>\n",
              "      <td>0</td>\n",
              "      <td>18</td>\n",
              "    </tr>\n",
              "    <tr>\n",
              "      <th>193</th>\n",
              "      <td>Zambia</td>\n",
              "      <td>11</td>\n",
              "      <td>17</td>\n",
              "      <td>11</td>\n",
              "      <td>7</td>\n",
              "      <td>16</td>\n",
              "      <td>9</td>\n",
              "    </tr>\n",
              "    <tr>\n",
              "      <th>194</th>\n",
              "      <td>Zimbabwe</td>\n",
              "      <td>72</td>\n",
              "      <td>114</td>\n",
              "      <td>102</td>\n",
              "      <td>44</td>\n",
              "      <td>32</td>\n",
              "      <td>29</td>\n",
              "    </tr>\n",
              "  </tbody>\n",
              "</table>\n",
              "<p>195 rows × 7 columns</p>\n",
              "</div>"
            ],
            "text/plain": [
              "            Country  1980  1981  1982  1983  1984  1985\n",
              "0       Afghanistan    16    39    39    47    71   340\n",
              "1           Albania     1     0     0     0     0     0\n",
              "2           Algeria    80    67    71    69    63    44\n",
              "3    American Samoa     0     1     0     0     0     0\n",
              "4           Andorra     0     0     0     0     0     0\n",
              "..              ...   ...   ...   ...   ...   ...   ...\n",
              "190        Viet Nam  1191  1829  2162  3404  7583  5907\n",
              "191  Western Sahara     0     0     0     0     0     0\n",
              "192           Yemen     1     2     1     6     0    18\n",
              "193          Zambia    11    17    11     7    16     9\n",
              "194        Zimbabwe    72   114   102    44    32    29\n",
              "\n",
              "[195 rows x 7 columns]"
            ]
          },
          "metadata": {
            "tags": []
          },
          "execution_count": 18
        }
      ]
    },
    {
      "cell_type": "markdown",
      "metadata": {
        "button": false,
        "deletable": true,
        "new_sheet": false,
        "run_control": {
          "read_only": false
        },
        "id": "OJOdoV3d3ml1",
        "colab_type": "text"
      },
      "source": [
        "### Select Row\n",
        "\n",
        "There are main 3 ways to select rows:\n",
        "\n",
        "```python\n",
        "    df.loc[label]        \n",
        "        #filters by the labels of the index/column\n",
        "    df.iloc[index]       \n",
        "        #filters by the positions of the index/column\n",
        "```"
      ]
    },
    {
      "cell_type": "markdown",
      "metadata": {
        "button": false,
        "deletable": true,
        "new_sheet": false,
        "run_control": {
          "read_only": false
        },
        "id": "ccqK4vS-3ml2",
        "colab_type": "text"
      },
      "source": [
        "Before we proceed, notice that the defaul index of the dataset is a numeric range from 0 to 194. This makes it very difficult to do a query by a specific country. For example to search for data on Japan, we need to know the corressponding index value.\n",
        "\n",
        "This can be fixed very easily by setting the 'Country' column as the index using `set_index()` method."
      ]
    },
    {
      "cell_type": "code",
      "metadata": {
        "button": false,
        "collapsed": true,
        "deletable": true,
        "new_sheet": false,
        "run_control": {
          "read_only": false
        },
        "scrolled": true,
        "id": "ZVP3riEP3ml2",
        "colab_type": "code",
        "colab": {}
      },
      "source": [
        "df_can.set_index('Country', inplace=True)\n",
        "# tip: The opposite of set is reset. So to reset the index, we can use df_can.reset_index()"
      ],
      "execution_count": 0,
      "outputs": []
    },
    {
      "cell_type": "code",
      "metadata": {
        "button": false,
        "deletable": true,
        "new_sheet": false,
        "run_control": {
          "read_only": false
        },
        "scrolled": false,
        "id": "PgCBSsdR3ml5",
        "colab_type": "code",
        "colab": {}
      },
      "source": [
        "df_can.head(3)"
      ],
      "execution_count": 0,
      "outputs": []
    },
    {
      "cell_type": "code",
      "metadata": {
        "button": false,
        "collapsed": true,
        "deletable": true,
        "new_sheet": false,
        "run_control": {
          "read_only": false
        },
        "scrolled": false,
        "id": "emGTXFm13ml_",
        "colab_type": "code",
        "colab": {}
      },
      "source": [
        "# optional: to remove the name of the index\n",
        "df_can.index.name = None"
      ],
      "execution_count": 0,
      "outputs": []
    },
    {
      "cell_type": "markdown",
      "metadata": {
        "button": false,
        "deletable": true,
        "new_sheet": false,
        "run_control": {
          "read_only": false
        },
        "id": "XzfvciRY3mmC",
        "colab_type": "text"
      },
      "source": [
        "Example: Let's view the number of immigrants from Japan (row 87) for the following scenarios:\n",
        "    1. The full row data (all columns)\n",
        "    2. For year 2013\n",
        "    3. For years 1980 to 1985"
      ]
    },
    {
      "cell_type": "code",
      "metadata": {
        "button": false,
        "deletable": true,
        "new_sheet": false,
        "run_control": {
          "read_only": false
        },
        "scrolled": true,
        "id": "M_qHVgJH3mmD",
        "colab_type": "code",
        "colab": {}
      },
      "source": [
        "# 1. the full row data (all columns)\n",
        "print(df_can.loc['Japan'])\n",
        "\n",
        "# alternate methods\n",
        "print(df_can.iloc[87])\n",
        "print(df_can[df_can.index == 'Japan'].T.squeeze())"
      ],
      "execution_count": 0,
      "outputs": []
    },
    {
      "cell_type": "code",
      "metadata": {
        "button": false,
        "deletable": true,
        "new_sheet": false,
        "run_control": {
          "read_only": false
        },
        "scrolled": true,
        "id": "woDiED2g3mmF",
        "colab_type": "code",
        "colab": {}
      },
      "source": [
        "# 2. for year 2013\n",
        "print(df_can.loc['Japan', 2013])\n",
        "\n",
        "# alternate method\n",
        "print(df_can.iloc[87, 36]) # year 2013 is the last column, with a positional index of 36"
      ],
      "execution_count": 0,
      "outputs": []
    },
    {
      "cell_type": "code",
      "metadata": {
        "button": false,
        "deletable": true,
        "new_sheet": false,
        "run_control": {
          "read_only": false
        },
        "id": "BU18RQBf3mmI",
        "colab_type": "code",
        "colab": {}
      },
      "source": [
        "# 3. for years 1980 to 1985\n",
        "print(df_can.loc['Japan', [1980, 1981, 1982, 1983, 1984, 1984]])\n",
        "print(df_can.iloc[87, [3, 4, 5, 6, 7, 8]])"
      ],
      "execution_count": 0,
      "outputs": []
    },
    {
      "cell_type": "markdown",
      "metadata": {
        "button": false,
        "deletable": true,
        "new_sheet": false,
        "run_control": {
          "read_only": false
        },
        "id": "gKOpv-NX3mmK",
        "colab_type": "text"
      },
      "source": [
        "Column names that are integers (such as the years) might introduce some confusion. For example, when we are referencing the year 2013, one might confuse that when the 2013th positional index. \n",
        "\n",
        "To avoid this ambuigity, let's convert the column names into strings: '1980' to '2013'."
      ]
    },
    {
      "cell_type": "code",
      "metadata": {
        "button": false,
        "collapsed": true,
        "deletable": true,
        "new_sheet": false,
        "run_control": {
          "read_only": false
        },
        "scrolled": false,
        "id": "DWOJ88rd3mmL",
        "colab_type": "code",
        "colab": {}
      },
      "source": [
        "df_can.columns = list(map(str, df_can.columns))\n",
        "# [print (type(x)) for x in df_can.columns.values] #<-- uncomment to check type of column headers"
      ],
      "execution_count": 0,
      "outputs": []
    },
    {
      "cell_type": "markdown",
      "metadata": {
        "button": false,
        "deletable": true,
        "new_sheet": false,
        "run_control": {
          "read_only": false
        },
        "id": "P-FF_WqO3mmO",
        "colab_type": "text"
      },
      "source": [
        "Since we converted the years to string, let's declare a variable that will allow us to easily call upon the full range of years:"
      ]
    },
    {
      "cell_type": "code",
      "metadata": {
        "button": false,
        "deletable": true,
        "new_sheet": false,
        "run_control": {
          "read_only": false
        },
        "scrolled": false,
        "id": "RZ5YbQRj3mmP",
        "colab_type": "code",
        "colab": {}
      },
      "source": [
        "# useful for plotting later on\n",
        "years = list(map(str, range(1980, 2014)))\n",
        "years"
      ],
      "execution_count": 0,
      "outputs": []
    },
    {
      "cell_type": "markdown",
      "metadata": {
        "button": false,
        "deletable": true,
        "new_sheet": false,
        "run_control": {
          "read_only": false
        },
        "id": "JYci8hY_3mmR",
        "colab_type": "text"
      },
      "source": [
        "### Filtering based on a criteria\n",
        "To filter the dataframe based on a condition, we simply pass the condition as a boolean vector. \n",
        "\n",
        "For example, Let's filter the dataframe to show the data on Asian countries (AreaName = Asia)."
      ]
    },
    {
      "cell_type": "code",
      "metadata": {
        "button": false,
        "deletable": true,
        "new_sheet": false,
        "run_control": {
          "read_only": false
        },
        "scrolled": true,
        "id": "gqFbRZIM3mmS",
        "colab_type": "code",
        "colab": {}
      },
      "source": [
        "# 1. create the condition boolean series\n",
        "condition = df_can['Continent'] == 'Asia'\n",
        "print(condition)"
      ],
      "execution_count": 0,
      "outputs": []
    },
    {
      "cell_type": "code",
      "metadata": {
        "button": false,
        "deletable": true,
        "new_sheet": false,
        "run_control": {
          "read_only": false
        },
        "id": "ETfeePP33mmV",
        "colab_type": "code",
        "colab": {}
      },
      "source": [
        "# 2. pass this condition into the dataFrame\n",
        "df_can[condition]"
      ],
      "execution_count": 0,
      "outputs": []
    },
    {
      "cell_type": "code",
      "metadata": {
        "button": false,
        "deletable": true,
        "new_sheet": false,
        "run_control": {
          "read_only": false
        },
        "id": "auKiKWQN3mmX",
        "colab_type": "code",
        "colab": {}
      },
      "source": [
        "# we can pass mutliple criteria in the same line. \n",
        "# let's filter for AreaNAme = Asia and RegName = Southern Asia\n",
        "\n",
        "df_can[(df_can['Continent']=='Asia') & (df_can['Region']=='Southern Asia')]\n",
        "\n",
        "# note: When using 'and' and 'or' operators, pandas requires we use '&' and '|' instead of 'and' and 'or'\n",
        "# don't forget to enclose the two conditions in parentheses"
      ],
      "execution_count": 0,
      "outputs": []
    },
    {
      "cell_type": "markdown",
      "metadata": {
        "button": false,
        "deletable": true,
        "new_sheet": false,
        "run_control": {
          "read_only": false
        },
        "id": "C8MZUDem3mma",
        "colab_type": "text"
      },
      "source": [
        "Before we proceed: let's review the changes we have made to our dataframe."
      ]
    },
    {
      "cell_type": "code",
      "metadata": {
        "button": false,
        "deletable": true,
        "new_sheet": false,
        "run_control": {
          "read_only": false
        },
        "scrolled": true,
        "id": "ofL0RVjS3mma",
        "colab_type": "code",
        "colab": {}
      },
      "source": [
        "print('data dimensions:', df_can.shape)\n",
        "print(df_can.columns)\n",
        "df_can.head(2)"
      ],
      "execution_count": 0,
      "outputs": []
    },
    {
      "cell_type": "markdown",
      "metadata": {
        "button": false,
        "deletable": true,
        "new_sheet": false,
        "run_control": {
          "read_only": false
        },
        "id": "d2b4Ddbi3mme",
        "colab_type": "text"
      },
      "source": [
        "---\n",
        "# Visualizing Data using Matplotlib<a id=\"8\"></a>"
      ]
    },
    {
      "cell_type": "markdown",
      "metadata": {
        "button": false,
        "deletable": true,
        "new_sheet": false,
        "run_control": {
          "read_only": false
        },
        "id": "_vDTpBYy3mmf",
        "colab_type": "text"
      },
      "source": [
        "## Matplotlib: Standard Python Visualization Library<a id=\"10\"></a>\n",
        "\n",
        "The primary plotting library we will explore in the course is [Matplotlib](http://matplotlib.org/).  As mentioned on their website: \n",
        ">Matplotlib is a Python 2D plotting library which produces publication quality figures in a variety of hardcopy formats and interactive environments across platforms. Matplotlib can be used in Python scripts, the Python and IPython shell, the jupyter notebook, web application servers, and four graphical user interface toolkits.\n",
        "\n",
        "If you are aspiring to create impactful visualization with python, Matplotlib is an essential tool to have at your disposal."
      ]
    },
    {
      "cell_type": "markdown",
      "metadata": {
        "button": false,
        "deletable": true,
        "new_sheet": false,
        "run_control": {
          "read_only": false
        },
        "id": "4dpr6XiB3mmf",
        "colab_type": "text"
      },
      "source": [
        "### Matplotlib.Pyplot\n",
        "\n",
        "One of the core aspects of Matplotlib is `matplotlib.pyplot`. It is Matplotlib's scripting layer which we studied in details in the videos about Matplotlib. Recall that it is a collection of command style functions that make Matplotlib work like MATLAB. Each `pyplot` function makes some change to a figure: e.g., creates a figure, creates a plotting area in a figure, plots some lines in a plotting area, decorates the plot with labels, etc. In this lab, we will work with the scripting layer to learn how to generate line plots. In future labs, we will get to work with the Artist layer as well to experiment first hand how it differs from the scripting layer. \n"
      ]
    },
    {
      "cell_type": "markdown",
      "metadata": {
        "button": false,
        "deletable": true,
        "new_sheet": false,
        "run_control": {
          "read_only": false
        },
        "id": "TSCfj5XP3mmf",
        "colab_type": "text"
      },
      "source": [
        "Let's start by importing `Matplotlib` and `Matplotlib.pyplot` as follows:"
      ]
    },
    {
      "cell_type": "code",
      "metadata": {
        "button": false,
        "deletable": true,
        "new_sheet": false,
        "run_control": {
          "read_only": false
        },
        "scrolled": false,
        "id": "57r19s2F3mmg",
        "colab_type": "code",
        "colab": {}
      },
      "source": [
        "# we are using the inline backend\n",
        "%matplotlib inline \n",
        "\n",
        "import matplotlib as mpl\n",
        "import matplotlib.pyplot as plt"
      ],
      "execution_count": 0,
      "outputs": []
    },
    {
      "cell_type": "markdown",
      "metadata": {
        "button": false,
        "deletable": true,
        "new_sheet": false,
        "run_control": {
          "read_only": false
        },
        "id": "Q6hPleCV3mmj",
        "colab_type": "text"
      },
      "source": [
        "*optional: check if Matplotlib is loaded."
      ]
    },
    {
      "cell_type": "code",
      "metadata": {
        "button": false,
        "deletable": true,
        "new_sheet": false,
        "run_control": {
          "read_only": false
        },
        "scrolled": false,
        "id": "CpOOPkGV3mmk",
        "colab_type": "code",
        "colab": {}
      },
      "source": [
        "print ('Matplotlib version: ', mpl.__version__) # >= 2.0.0"
      ],
      "execution_count": 0,
      "outputs": []
    },
    {
      "cell_type": "markdown",
      "metadata": {
        "button": false,
        "deletable": true,
        "new_sheet": false,
        "run_control": {
          "read_only": false
        },
        "id": "SoVg3dUH3mmn",
        "colab_type": "text"
      },
      "source": [
        "*optional: apply a style to Matplotlib."
      ]
    },
    {
      "cell_type": "code",
      "metadata": {
        "button": false,
        "deletable": true,
        "new_sheet": false,
        "run_control": {
          "read_only": false
        },
        "scrolled": false,
        "id": "nWTay-473mmn",
        "colab_type": "code",
        "colab": {}
      },
      "source": [
        "print(plt.style.available)\n",
        "mpl.style.use(['ggplot']) # optional: for ggplot-like style"
      ],
      "execution_count": 0,
      "outputs": []
    },
    {
      "cell_type": "markdown",
      "metadata": {
        "button": false,
        "deletable": true,
        "new_sheet": false,
        "run_control": {
          "read_only": false
        },
        "id": "i1PJLs_f3mmr",
        "colab_type": "text"
      },
      "source": [
        "### Plotting in *pandas*\n",
        "\n",
        "Fortunately, pandas has a built-in implementation of Matplotlib that we can use. Plotting in *pandas* is as simple as appending a `.plot()` method to a series or dataframe.\n",
        "\n",
        "Documentation:\n",
        "- [Plotting with Series](http://pandas.pydata.org/pandas-docs/stable/api.html#plotting)<br>\n",
        "- [Plotting with Dataframes](http://pandas.pydata.org/pandas-docs/stable/api.html#api-dataframe-plotting)"
      ]
    },
    {
      "cell_type": "markdown",
      "metadata": {
        "button": false,
        "deletable": true,
        "new_sheet": false,
        "run_control": {
          "read_only": false
        },
        "id": "Egz7pLqq3mmr",
        "colab_type": "text"
      },
      "source": [
        "# Line Pots (Series/Dataframe) <a id=\"12\"></a>"
      ]
    },
    {
      "cell_type": "markdown",
      "metadata": {
        "button": false,
        "deletable": true,
        "new_sheet": false,
        "run_control": {
          "read_only": false
        },
        "id": "GXhvBt2Z3mmr",
        "colab_type": "text"
      },
      "source": [
        "**What is a line plot and why use it?**\n",
        "\n",
        "A line chart or line plot is a type of plot which displays information as a series of data points called 'markers' connected by straight line segments. It is a basic type of chart common in many fields.\n",
        "Use line plot when you have a continuous data set. These are best suited for trend-based visualizations of data over a period of time."
      ]
    },
    {
      "cell_type": "markdown",
      "metadata": {
        "button": false,
        "deletable": true,
        "new_sheet": false,
        "run_control": {
          "read_only": false
        },
        "id": "WIs0UaXn3mms",
        "colab_type": "text"
      },
      "source": [
        "**Let's start with a case study:**\n",
        "\n",
        "In 2010, Haiti suffered a catastrophic magnitude 7.0 earthquake. The quake caused widespread devastation and loss of life and aout three million people were affected by this natural disaster. As part of Canada's humanitarian effort, the Government of Canada stepped up its effort in accepting refugees from Haiti. We can quickly visualize this effort using a `Line` plot:\n",
        "\n",
        "**Question:** Plot a line graph of immigration from Haiti using `df.plot()`.\n"
      ]
    },
    {
      "cell_type": "markdown",
      "metadata": {
        "button": false,
        "deletable": true,
        "new_sheet": false,
        "run_control": {
          "read_only": false
        },
        "id": "7dwZSE2N3mms",
        "colab_type": "text"
      },
      "source": [
        "First, we will extract the data series for Haiti."
      ]
    },
    {
      "cell_type": "code",
      "metadata": {
        "button": false,
        "deletable": true,
        "new_sheet": false,
        "run_control": {
          "read_only": false
        },
        "scrolled": false,
        "id": "8Mw2jw5l3mmt",
        "colab_type": "code",
        "colab": {}
      },
      "source": [
        "haiti = df_can.loc['Haiti', years] # passing in years 1980 - 2013 to exclude the 'total' column\n",
        "haiti.head()"
      ],
      "execution_count": 0,
      "outputs": []
    },
    {
      "cell_type": "markdown",
      "metadata": {
        "button": false,
        "deletable": true,
        "new_sheet": false,
        "run_control": {
          "read_only": false
        },
        "id": "Mf7bObO23mmz",
        "colab_type": "text"
      },
      "source": [
        "Next, we will plot a line plot by appending `.plot()` to the `haiti` dataframe."
      ]
    },
    {
      "cell_type": "code",
      "metadata": {
        "button": false,
        "deletable": true,
        "new_sheet": false,
        "run_control": {
          "read_only": false
        },
        "scrolled": false,
        "id": "syYlJI5L3mm0",
        "colab_type": "code",
        "colab": {}
      },
      "source": [
        "haiti.plot()"
      ],
      "execution_count": 0,
      "outputs": []
    },
    {
      "cell_type": "markdown",
      "metadata": {
        "button": false,
        "deletable": true,
        "new_sheet": false,
        "run_control": {
          "read_only": false
        },
        "id": "uvENqVQx3mm2",
        "colab_type": "text"
      },
      "source": [
        "*pandas* automatically populated the x-axis with the index values (years), and the y-axis with the column values (population). However, notice how the years were not displayed because they are of type *string*. Therefore, let's change the type of the index values to *integer* for plotting.\n",
        "\n",
        "Also, let's label the x and y axis using `plt.title()`, `plt.ylabel()`, and `plt.xlabel()` as follows:"
      ]
    },
    {
      "cell_type": "code",
      "metadata": {
        "button": false,
        "deletable": true,
        "new_sheet": false,
        "run_control": {
          "read_only": false
        },
        "scrolled": true,
        "id": "P0VVTkil3mm3",
        "colab_type": "code",
        "colab": {}
      },
      "source": [
        "haiti.index = haiti.index.map(int) # let's change the index values of Haiti to type integer for plotting\n",
        "haiti.plot(kind='line')\n",
        "\n",
        "plt.title('Immigration from Haiti')\n",
        "plt.ylabel('Number of immigrants')\n",
        "plt.xlabel('Years')\n",
        "\n",
        "plt.show() # need this line to show the updates made to the figure"
      ],
      "execution_count": 0,
      "outputs": []
    },
    {
      "cell_type": "markdown",
      "metadata": {
        "button": false,
        "deletable": true,
        "new_sheet": false,
        "run_control": {
          "read_only": false
        },
        "id": "vRePt3l03mm5",
        "colab_type": "text"
      },
      "source": [
        "We can clearly notice how number of immigrants from Haiti spiked up from 2010 as Canada stepped up its efforts to accept refugees from Haiti. Let's annotate this spike in the plot by using the `plt.text()` method."
      ]
    },
    {
      "cell_type": "code",
      "metadata": {
        "button": false,
        "deletable": true,
        "new_sheet": false,
        "run_control": {
          "read_only": false
        },
        "id": "syjH7qSe3mm6",
        "colab_type": "code",
        "colab": {}
      },
      "source": [
        "haiti.plot(kind='line')\n",
        "\n",
        "plt.title('Immigration from Haiti')\n",
        "plt.ylabel('Number of Immigrants')\n",
        "plt.xlabel('Years')\n",
        "\n",
        "# annotate the 2010 Earthquake. \n",
        "# syntax: plt.text(x, y, label)\n",
        "plt.text(2000, 6000, '2010 Earthquake') # see note below\n",
        "\n",
        "plt.show() "
      ],
      "execution_count": 0,
      "outputs": []
    },
    {
      "cell_type": "markdown",
      "metadata": {
        "button": false,
        "deletable": true,
        "new_sheet": false,
        "run_control": {
          "read_only": false
        },
        "id": "bQ2rHsmr3mm8",
        "colab_type": "text"
      },
      "source": [
        "With just a few lines of code, you were able to quickly identify and visualize the spike in immigration!\n",
        "\n",
        "Quick note on x and y values in `plt.text(x, y, label)`:\n",
        "    \n",
        "     Since the x-axis (years) is type 'integer', we specified x as a year. The y axis (number of immigrants) is type 'integer', so we can just specify the value y = 6000.\n",
        "    \n",
        "```python\n",
        "    plt.text(2000, 6000, '2010 Earthquake') # years stored as type int\n",
        "```\n",
        "    If the years were stored as type 'string', we would need to specify x as the index position of the year. Eg 20th index is year 2000 since it is the 20th year with a base year of 1980.\n",
        "```python\n",
        "    plt.text(20, 6000, '2010 Earthquake') # years stored as type int\n",
        "```\n",
        "    We will cover advanced annotation methods in later modules."
      ]
    },
    {
      "cell_type": "markdown",
      "metadata": {
        "button": false,
        "deletable": true,
        "new_sheet": false,
        "run_control": {
          "read_only": false
        },
        "id": "BfA74LuQ3mm8",
        "colab_type": "text"
      },
      "source": [
        "We can easily add more countries to line plot to make meaningful comparisons immigration from different countries. \n",
        "\n",
        "**Question:** Let's compare the number of immigrants from India and China from 1980 to 2013.\n"
      ]
    },
    {
      "cell_type": "markdown",
      "metadata": {
        "button": false,
        "deletable": true,
        "new_sheet": false,
        "run_control": {
          "read_only": false
        },
        "id": "trrYeeOM3mm9",
        "colab_type": "text"
      },
      "source": [
        "Step 1: Get the data set for China and India, and display dataframe."
      ]
    },
    {
      "cell_type": "code",
      "metadata": {
        "button": false,
        "deletable": true,
        "new_sheet": false,
        "run_control": {
          "read_only": false
        },
        "scrolled": true,
        "id": "wQ3fU2TO3mm9",
        "colab_type": "code",
        "colab": {}
      },
      "source": [
        "### type your answer here\n",
        "\n"
      ],
      "execution_count": 0,
      "outputs": []
    },
    {
      "cell_type": "markdown",
      "metadata": {
        "button": false,
        "deletable": true,
        "new_sheet": false,
        "run_control": {
          "read_only": false
        },
        "id": "3uqI4SHG3mnA",
        "colab_type": "text"
      },
      "source": [
        "Double-click __here__ for the solution.\n",
        "<!-- The correct answer is:\n",
        "df_CI = df_can.loc[['India', 'China'], years]\n",
        "df_CI.head()\n",
        "-->"
      ]
    },
    {
      "cell_type": "markdown",
      "metadata": {
        "button": false,
        "deletable": true,
        "new_sheet": false,
        "run_control": {
          "read_only": false
        },
        "id": "4ikP1KzB3mnB",
        "colab_type": "text"
      },
      "source": [
        "Step 2: Plot graph. We will explicitly specify line plot by passing in `kind` parameter to `plot()`."
      ]
    },
    {
      "cell_type": "code",
      "metadata": {
        "button": false,
        "deletable": true,
        "new_sheet": false,
        "run_control": {
          "read_only": false
        },
        "scrolled": true,
        "id": "YeslaT0x3mnB",
        "colab_type": "code",
        "colab": {}
      },
      "source": [
        "### type your answer here\n",
        "\n"
      ],
      "execution_count": 0,
      "outputs": []
    },
    {
      "cell_type": "markdown",
      "metadata": {
        "button": false,
        "deletable": true,
        "new_sheet": false,
        "run_control": {
          "read_only": false
        },
        "id": "T0EjYEL23mnE",
        "colab_type": "text"
      },
      "source": [
        "Double-click __here__ for the solution.\n",
        "<!-- The correct answer is:\n",
        "df_CI.plot(kind='line')\n",
        "-->"
      ]
    },
    {
      "cell_type": "markdown",
      "metadata": {
        "button": false,
        "deletable": true,
        "new_sheet": false,
        "run_control": {
          "read_only": false
        },
        "id": "uWHFW8rh3mnE",
        "colab_type": "text"
      },
      "source": [
        "That doesn't look right...\n",
        "\n",
        "Recall that *pandas* plots the indices on the x-axis and the columns as individual lines on the y-axis. Since `df_CI` is a dataframe with the `country` as the index and `years` as the columns, we must first transpose the dataframe using `transpose()` method to swap the row and columns."
      ]
    },
    {
      "cell_type": "code",
      "metadata": {
        "button": false,
        "deletable": true,
        "new_sheet": false,
        "run_control": {
          "read_only": false
        },
        "id": "QVd8KQT93mnF",
        "colab_type": "code",
        "colab": {}
      },
      "source": [
        "df_CI = df_CI.transpose()\n",
        "df_CI.head()"
      ],
      "execution_count": 0,
      "outputs": []
    },
    {
      "cell_type": "markdown",
      "metadata": {
        "button": false,
        "deletable": true,
        "new_sheet": false,
        "run_control": {
          "read_only": false
        },
        "id": "WnSEilXk3mnI",
        "colab_type": "text"
      },
      "source": [
        "*pandas* will auomatically graph the two countries on the same graph. Go ahead and plot the new transposed dataframe. Make sure to add a title to the plot and label the axes."
      ]
    },
    {
      "cell_type": "code",
      "metadata": {
        "button": false,
        "deletable": true,
        "new_sheet": false,
        "run_control": {
          "read_only": false
        },
        "id": "Ln18RwMr3mnI",
        "colab_type": "code",
        "colab": {}
      },
      "source": [
        "### type your answer here\n",
        "\n",
        "\n",
        "\n"
      ],
      "execution_count": 0,
      "outputs": []
    },
    {
      "cell_type": "markdown",
      "metadata": {
        "button": false,
        "deletable": true,
        "new_sheet": false,
        "run_control": {
          "read_only": false
        },
        "id": "W4IeCCz43mnK",
        "colab_type": "text"
      },
      "source": [
        "Double-click __here__ for the solution.\n",
        "<!-- The correct answer is:\n",
        "df_CI.index = df_CI.index.map(int) # let's change the index values of df_CI to type integer for plotting\n",
        "df_CI.plot(kind='line')\n",
        "-->\n",
        "\n",
        "<!--\n",
        "plt.title('Immigrants from China and India')\n",
        "plt.ylabel('Number of Immigrants')\n",
        "plt.xlabel('Years')\n",
        "-->\n",
        "\n",
        "<!--\n",
        "plt.show()\n",
        "--> "
      ]
    },
    {
      "cell_type": "markdown",
      "metadata": {
        "button": false,
        "deletable": true,
        "new_sheet": false,
        "run_control": {
          "read_only": false
        },
        "id": "9YN2L4Zd3mnM",
        "colab_type": "text"
      },
      "source": [
        "From the above plot, we can observe that the China and India have very similar immigration trends through the years. "
      ]
    },
    {
      "cell_type": "markdown",
      "metadata": {
        "button": false,
        "deletable": true,
        "new_sheet": false,
        "run_control": {
          "read_only": false
        },
        "id": "80ub_Gs33mnO",
        "colab_type": "text"
      },
      "source": [
        "*Note*: How come we didn't need to transpose Haiti's dataframe before plotting (like we did for df_CI)?\n",
        "\n",
        "That's because `haiti` is a series as opposed to a dataframe, and has the years as its indices as shown below. \n",
        "```python\n",
        "print(type(haiti))\n",
        "print(haiti.head(5))\n",
        "```\n",
        ">class 'pandas.core.series.Series' <br>\n",
        ">1980    1666 <br>\n",
        ">1981    3692 <br>\n",
        ">1982    3498 <br>\n",
        ">1983    2860 <br>\n",
        ">1984    1418 <br>\n",
        ">Name: Haiti, dtype: int64 <br>"
      ]
    },
    {
      "cell_type": "markdown",
      "metadata": {
        "button": false,
        "deletable": true,
        "new_sheet": false,
        "run_control": {
          "read_only": false
        },
        "id": "CsJ8Pi0h3mnQ",
        "colab_type": "text"
      },
      "source": [
        "Line plot is a handy tool to display several dependent variables against one independent variable. However, it is recommended that no more than 5-10 lines on a single graph; any more than that and it becomes difficult to interpret."
      ]
    },
    {
      "cell_type": "markdown",
      "metadata": {
        "button": false,
        "deletable": true,
        "new_sheet": false,
        "run_control": {
          "read_only": false
        },
        "id": "0yNwahMk3mnR",
        "colab_type": "text"
      },
      "source": [
        "**Question:** Compare the trend of top 5 countries that contributed the most to immigration to Canada."
      ]
    },
    {
      "cell_type": "code",
      "metadata": {
        "button": false,
        "deletable": true,
        "new_sheet": false,
        "run_control": {
          "read_only": false
        },
        "id": "6k57iyNh3mnR",
        "colab_type": "code",
        "colab": {}
      },
      "source": [
        "### type your answer here\n",
        "\n",
        "\n",
        "\n"
      ],
      "execution_count": 0,
      "outputs": []
    },
    {
      "cell_type": "markdown",
      "metadata": {
        "button": false,
        "deletable": true,
        "new_sheet": false,
        "run_control": {
          "read_only": false
        },
        "id": "Sl40T7TB3mnU",
        "colab_type": "text"
      },
      "source": [
        "Double-click __here__ for the solution.\n",
        "<!-- The correct answer is:\n",
        "\\\\ # Step 1: Get the dataset. Recall that we created a Total column that calculates the cumulative immigration by country. \\\\ We will sort on this column to get our top 5 countries using pandas sort_values() method.\n",
        "\\\\ inplace = True paramemter saves the changes to the original df_can dataframe\n",
        "df_can.sort_values(by='Total', ascending=False, axis=0, inplace=True)\n",
        "-->\n",
        "\n",
        "<!--\n",
        "# get the top 5 entries\n",
        "df_top5 = df_can.head(5)\n",
        "-->\n",
        "\n",
        "<!--\n",
        "# transpose the dataframe\n",
        "df_top5 = df_top5[years].transpose() \n",
        "-->\n",
        "\n",
        "<!--\n",
        "print(df_top5)\n",
        "-->\n",
        "\n",
        "<!--\n",
        "\\\\ # Step 2: Plot the dataframe. To make the plot more readeable, we will change the size using the `figsize` parameter.\n",
        "df_top5.index = df_top5.index.map(int) # let's change the index values of df_top5 to type integer for plotting\n",
        "df_top5.plot(kind='line', figsize=(14, 8)) # pass a tuple (x, y) size\n",
        "-->\n",
        "\n",
        "<!--\n",
        "plt.title('Immigration Trend of Top 5 Countries')\n",
        "plt.ylabel('Number of Immigrants')\n",
        "plt.xlabel('Years')\n",
        "-->\n",
        "\n",
        "<!--\n",
        "plt.show()\n",
        "-->"
      ]
    },
    {
      "cell_type": "markdown",
      "metadata": {
        "button": false,
        "deletable": true,
        "new_sheet": false,
        "run_control": {
          "read_only": false
        },
        "id": "ts5dBF5l3mnU",
        "colab_type": "text"
      },
      "source": [
        "### Other Plots\n",
        "\n",
        "Congratulations! you have learned how to wrangle data with python and create a line plot with Matplotlib. There are many other plotting styles available other than the default Line plot, all of which can be accessed by passing `kind` keyword to `plot()`. The full list of available plots are as follows:\n",
        "\n",
        "* `bar` for vertical bar plots\n",
        "* `barh` for horizontal bar plots\n",
        "* `hist` for histogram\n",
        "* `box` for boxplot\n",
        "* `kde` or `density` for density plots\n",
        "* `area` for area plots\n",
        "* `pie` for pie plots\n",
        "* `scatter` for scatter plots\n",
        "* `hexbin` for hexbin plot"
      ]
    },
    {
      "cell_type": "markdown",
      "metadata": {
        "button": false,
        "deletable": true,
        "new_sheet": false,
        "run_control": {
          "read_only": false
        },
        "id": "IA9xCUEo3mnV",
        "colab_type": "text"
      },
      "source": [
        "### Thank you for completing this lab!\n",
        "\n",
        "This notebook was originally created by [Jay Rajasekharan](https://www.linkedin.com/in/jayrajasekharan) with contributions from [Ehsan M. Kermani](https://www.linkedin.com/in/ehsanmkermani), and [Slobodan Markovic](https://www.linkedin.com/in/slobodan-markovic).\n",
        "\n",
        "This notebook was recently revised by [Alex Aklson](https://www.linkedin.com/in/aklson/). I hope you found this lab session interesting. Feel free to contact me if you have any questions!"
      ]
    },
    {
      "cell_type": "markdown",
      "metadata": {
        "button": false,
        "deletable": true,
        "new_sheet": false,
        "run_control": {
          "read_only": false
        },
        "id": "KPbAduMh3mnY",
        "colab_type": "text"
      },
      "source": [
        "This notebook is part of the free course on **Cognitive Class** called *Data Visualization with Python*. If you accessed this notebook outside the course, you can take this free self-paced course online by clicking [here](https://cocl.us/DV0101EN_Lab1)."
      ]
    },
    {
      "cell_type": "markdown",
      "metadata": {
        "button": false,
        "deletable": true,
        "new_sheet": false,
        "run_control": {
          "read_only": false
        },
        "id": "Ol_4rmFY3mnY",
        "colab_type": "text"
      },
      "source": [
        "<hr>\n",
        "\n",
        "Copyright &copy; 2019 [Cognitive Class](https://cognitiveclass.ai/?utm_source=bducopyrightlink&utm_medium=dswb&utm_campaign=bdu). This notebook and its source code are released under the terms of the [MIT License](https://bigdatauniversity.com/mit-license/)."
      ]
    }
  ]
}